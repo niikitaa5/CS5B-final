{
 "cells": [
  {
   "cell_type": "code",
   "execution_count": 1,
   "id": "01f8c1b0",
   "metadata": {
    "deletable": false,
    "editable": false
   },
   "outputs": [],
   "source": [
    "# Initialize Otter\n",
    "import otter\n",
    "grader = otter.Notebook(\"final_project.ipynb\")"
   ]
  },
  {
   "cell_type": "markdown",
   "id": "d8eadf20",
   "metadata": {
    "hideCode": false,
    "hidePrompt": false
   },
   "source": [
    "# Final Project: Penguins! (and other things)\n",
    "\n",
    "Welcome to the Final Project of CMPSC 5B!\n",
    "\n",
    "Here is a roadmap for this project:\n",
    "* In Part 1, we'll investigate the correlations between some penguin features and build a linear regression model.\n",
    "* In Part 2, we'll build a classification model to have python try and classify each type of penguin based on its features.\n",
    "* In Part 3, you'll design your own model (either linear regression or classification) using the whichever dataset.\n",
    "\n",
    "\n",
    "**Logistics**\n",
    "\n",
    "**Checkpoint.** For full credit, you must **complete Part 1 project and submit it by Friday March 8, 11:59pm** (check Gradescope for exact due date)  You may or may not have lab time to work on these questions, we recommend that you start early on each part to stay on track. Since your Final Project (checkpoint) is your first draft of your project, we want to give you feedback so that you can make corrections for the full submission.\n",
    "\n",
    "**Deadline.** The full project is due on **Friday, March 15, 2024, 11:59pm** during Week 10 (check Gradescope for exact due date). It's **much** better to be early than late, so start working now.\n",
    "\n",
    "**Partners.** You may work with one other partner; this partner **does not** need to be from the same lab section. Only one of you is required to submit the project. In Gradescope, the person who submits should also designate their partner so that both of you receive credit. Here is how you [add a group member in Gradescope](https://help.gradescope.com/article/m5qz2xsnjy-student-add-group-members). \n",
    "\n",
    "**Rules.** Don't share your code with anybody but your partner. You are welcome to discuss questions with other students, but don't share the answers. The experience of solving the problems in this project will prepare you for other courses (and life). If someone asks you for the answer, resist! Instead, you can demonstrate how you would solve a similar problem.\n",
    "\n",
    "**Support.** You are not alone! Come to office hours, post on Ed, and talk to your classmates. If you want to ask about the details of your solution to a problem, make a private Ed post and the staff will respond. If you're ever feeling overwhelmed or don't know how to make progress, email your TA or ULA for help. \n",
    "\n",
    "**Tests.** Passing the tests for a question **does not** mean that you answered the question correctly. Tests usually only check that your table has the correct column labels. However, more tests will be applied to verify the correctness of your submission in order to assign your final score, so be careful and check your work!\n",
    "\n",
    "**Advice.** Develop your answers incrementally. To perform a complicated table manipulation, break it up into steps, perform each step on a different line, give a new name to each result, and check that each intermediate result is what you expect. You can add any additional names or functions you want to the provided cells. Also, please be sure to not re-assign variables throughout the notebook! For example, if you use max_temperature in your answer to one question, do not reassign it later on.\n",
    "\n",
    "To get started, load `datascience`, `numpy`, and `plots`"
   ]
  },
  {
   "cell_type": "code",
   "execution_count": 2,
   "id": "25b3a71a",
   "metadata": {
    "hideCode": false,
    "hidePrompt": false
   },
   "outputs": [],
   "source": [
    "# Run this cell to set up the notebook, but please don't change it.\n",
    "import numpy as np\n",
    "import math\n",
    "from datascience import *\n",
    "\n",
    "# These lines set up the plotting functionality and formatting.\n",
    "import matplotlib\n",
    "matplotlib.use('Agg')\n",
    "%matplotlib inline\n",
    "import matplotlib.pyplot as plots\n",
    "plots.style.use('fivethirtyeight')\n",
    "import warnings\n",
    "warnings.simplefilter(action=\"ignore\", category=FutureWarning)\n",
    "\n",
    "import pandas as pd\n",
    "import altair as alt"
   ]
  },
  {
   "cell_type": "markdown",
   "id": "5a730d58",
   "metadata": {
    "hideCode": false,
    "hidePrompt": false
   },
   "source": [
    "# The Dataset\n",
    "\n",
    "Penguins are super cute and interesting. You may disagree but you are wrong. Today we are going to use our penguin dataset, which contain rows of different penguins and their features.\n",
    "\n",
    "Our [dataset](https://www.kaggle.com/code/parulpandey/penguin-dataset-the-new-iris/notebook) contains the following columns and information:\n",
    "\n",
    "1. **species** - indicates what type of penguin (Adelie, Chinstrap, Gentoo)\n",
    "2. **island** - which island our penguin came from\n",
    "3. **culmen_length_mm** - The culmen is the upper ridge of a bird's beak. For simplicity we will be referencing culmin as their beaks in the future. This is the penguin's beak length in millimeter.\n",
    "4. **culmen_depth_mm** - This is the penguin's beak depth in millimeter.\n",
    "5. **flipper_length_mm** - This is the penguin's flipper (or wings) length in millimeter.\n",
    "6. **body_mass_g** - This is how much the penguin weighs in grams.\n",
    "7. **sex** - The sex of the penguin.\n",
    "\n",
    "Run the cell below to read the `penguin` table."
   ]
  },
  {
   "cell_type": "code",
   "execution_count": 3,
   "id": "19b4cb51",
   "metadata": {
    "hideCode": false,
    "hidePrompt": false
   },
   "outputs": [
    {
     "data": {
      "text/html": [
       "<table border=\"1\" class=\"dataframe\">\n",
       "    <thead>\n",
       "        <tr>\n",
       "            <th>species</th> <th>island</th> <th>culmen_length_mm</th> <th>culmen_depth_mm</th> <th>flipper_length_mm</th> <th>body_mass_g</th> <th>sex</th>\n",
       "        </tr>\n",
       "    </thead>\n",
       "    <tbody>\n",
       "        <tr>\n",
       "            <td>Adelie </td> <td>Torgersen</td> <td>39.1            </td> <td>18.7           </td> <td>181              </td> <td>3750       </td> <td>MALE  </td>\n",
       "        </tr>\n",
       "        <tr>\n",
       "            <td>Adelie </td> <td>Torgersen</td> <td>39.5            </td> <td>17.4           </td> <td>186              </td> <td>3800       </td> <td>FEMALE</td>\n",
       "        </tr>\n",
       "        <tr>\n",
       "            <td>Adelie </td> <td>Torgersen</td> <td>40.3            </td> <td>18             </td> <td>195              </td> <td>3250       </td> <td>FEMALE</td>\n",
       "        </tr>\n",
       "        <tr>\n",
       "            <td>Adelie </td> <td>Torgersen</td> <td>36.7            </td> <td>19.3           </td> <td>193              </td> <td>3450       </td> <td>FEMALE</td>\n",
       "        </tr>\n",
       "        <tr>\n",
       "            <td>Adelie </td> <td>Torgersen</td> <td>39.3            </td> <td>20.6           </td> <td>190              </td> <td>3650       </td> <td>MALE  </td>\n",
       "        </tr>\n",
       "    </tbody>\n",
       "</table>\n",
       "<p>... (329 rows omitted)</p>"
      ],
      "text/plain": [
       "<IPython.core.display.HTML object>"
      ]
     },
     "metadata": {},
     "output_type": "display_data"
    }
   ],
   "source": [
    "# Run this cell to load our dataset!\n",
    "penguins = Table.read_table('data/penguin.csv')\n",
    "penguins.show(5)"
   ]
  },
  {
   "cell_type": "markdown",
   "id": "78398042",
   "metadata": {
    "hideCode": false,
    "hidePrompt": false
   },
   "source": [
    "If you are interested in taking PSTAT 100, below is a code cell that shows a glimpse of what you will be taught in that class. You don’t have to understand it now (of course!), but these are cool visualizations we want to expose you to. These graphs are interactive, so you zoom-in/zoom-out of them or drag the visualizations around to see different parts of the graph!"
   ]
  },
  {
   "cell_type": "code",
   "execution_count": 4,
   "id": "2e4e6580",
   "metadata": {
    "hideCode": false,
    "hidePrompt": false,
    "scrolled": true
   },
   "outputs": [
    {
     "data": {
      "text/html": [
       "\n",
       "<style>\n",
       "  #altair-viz-3fbfd1300b834b97a8b4c64506f26690.vega-embed {\n",
       "    width: 100%;\n",
       "    display: flex;\n",
       "  }\n",
       "\n",
       "  #altair-viz-3fbfd1300b834b97a8b4c64506f26690.vega-embed details,\n",
       "  #altair-viz-3fbfd1300b834b97a8b4c64506f26690.vega-embed details summary {\n",
       "    position: relative;\n",
       "  }\n",
       "</style>\n",
       "<div id=\"altair-viz-3fbfd1300b834b97a8b4c64506f26690\"></div>\n",
       "<script type=\"text/javascript\">\n",
       "  var VEGA_DEBUG = (typeof VEGA_DEBUG == \"undefined\") ? {} : VEGA_DEBUG;\n",
       "  (function(spec, embedOpt){\n",
       "    let outputDiv = document.currentScript.previousElementSibling;\n",
       "    if (outputDiv.id !== \"altair-viz-3fbfd1300b834b97a8b4c64506f26690\") {\n",
       "      outputDiv = document.getElementById(\"altair-viz-3fbfd1300b834b97a8b4c64506f26690\");\n",
       "    }\n",
       "    const paths = {\n",
       "      \"vega\": \"https://cdn.jsdelivr.net/npm/vega@5?noext\",\n",
       "      \"vega-lib\": \"https://cdn.jsdelivr.net/npm/vega-lib?noext\",\n",
       "      \"vega-lite\": \"https://cdn.jsdelivr.net/npm/vega-lite@5.16.3?noext\",\n",
       "      \"vega-embed\": \"https://cdn.jsdelivr.net/npm/vega-embed@6?noext\",\n",
       "    };\n",
       "\n",
       "    function maybeLoadScript(lib, version) {\n",
       "      var key = `${lib.replace(\"-\", \"\")}_version`;\n",
       "      return (VEGA_DEBUG[key] == version) ?\n",
       "        Promise.resolve(paths[lib]) :\n",
       "        new Promise(function(resolve, reject) {\n",
       "          var s = document.createElement('script');\n",
       "          document.getElementsByTagName(\"head\")[0].appendChild(s);\n",
       "          s.async = true;\n",
       "          s.onload = () => {\n",
       "            VEGA_DEBUG[key] = version;\n",
       "            return resolve(paths[lib]);\n",
       "          };\n",
       "          s.onerror = () => reject(`Error loading script: ${paths[lib]}`);\n",
       "          s.src = paths[lib];\n",
       "        });\n",
       "    }\n",
       "\n",
       "    function showError(err) {\n",
       "      outputDiv.innerHTML = `<div class=\"error\" style=\"color:red;\">${err}</div>`;\n",
       "      throw err;\n",
       "    }\n",
       "\n",
       "    function displayChart(vegaEmbed) {\n",
       "      vegaEmbed(outputDiv, spec, embedOpt)\n",
       "        .catch(err => showError(`Javascript Error: ${err.message}<br>This usually means there's a typo in your chart specification. See the javascript console for the full traceback.`));\n",
       "    }\n",
       "\n",
       "    if(typeof define === \"function\" && define.amd) {\n",
       "      requirejs.config({paths});\n",
       "      require([\"vega-embed\"], displayChart, err => showError(`Error loading script: ${err.message}`));\n",
       "    } else {\n",
       "      maybeLoadScript(\"vega\", \"5\")\n",
       "        .then(() => maybeLoadScript(\"vega-lite\", \"5.16.3\"))\n",
       "        .then(() => maybeLoadScript(\"vega-embed\", \"6\"))\n",
       "        .catch(showError)\n",
       "        .then(() => displayChart(vegaEmbed));\n",
       "    }\n",
       "  })({\"config\": {\"view\": {\"continuousWidth\": 300, \"continuousHeight\": 300}}, \"hconcat\": [{\"vconcat\": [{\"mark\": {\"type\": \"circle\", \"size\": 60}, \"encoding\": {\"color\": {\"field\": \"species\", \"type\": \"nominal\"}, \"x\": {\"field\": \"culmen_length_mm\", \"scale\": {\"domain\": [25, 65]}, \"type\": \"quantitative\"}, \"y\": {\"field\": \"culmen_depth_mm\", \"scale\": {\"domain\": [12, 22]}, \"type\": \"quantitative\"}}, \"height\": 300, \"name\": \"view_1\", \"width\": 300}, {\"mark\": {\"type\": \"circle\", \"size\": 60}, \"encoding\": {\"color\": {\"field\": \"species\", \"type\": \"nominal\"}, \"x\": {\"field\": \"body_mass_g\", \"scale\": {\"domain\": [2500, 6500]}, \"type\": \"quantitative\"}, \"y\": {\"field\": \"flipper_length_mm\", \"scale\": {\"domain\": [165, 235]}, \"type\": \"quantitative\"}}, \"height\": 300, \"name\": \"view_2\", \"width\": 300}]}, {\"vconcat\": [{\"mark\": {\"type\": \"circle\", \"size\": 60}, \"encoding\": {\"color\": {\"field\": \"species\", \"type\": \"nominal\"}, \"x\": {\"field\": \"flipper_length_mm\", \"scale\": {\"domain\": [165, 235]}, \"type\": \"quantitative\"}, \"y\": {\"field\": \"culmen_depth_mm\", \"scale\": {\"domain\": [12, 22]}, \"type\": \"quantitative\"}}, \"height\": 300, \"name\": \"view_3\", \"width\": 300}, {\"mark\": {\"type\": \"circle\", \"size\": 60}, \"encoding\": {\"color\": {\"field\": \"species\", \"type\": \"nominal\"}, \"x\": {\"field\": \"body_mass_g\", \"scale\": {\"domain\": [2500, 6500]}, \"type\": \"quantitative\"}, \"y\": {\"field\": \"culmen_depth_mm\", \"scale\": {\"domain\": [12, 22]}, \"type\": \"quantitative\"}}, \"height\": 300, \"name\": \"view_4\", \"width\": 300}]}], \"data\": {\"name\": \"data-603cc6cac3297f84e3f20a85eb69b1fe\"}, \"params\": [{\"name\": \"param_1\", \"select\": {\"type\": \"interval\", \"encodings\": [\"x\", \"y\"]}, \"bind\": \"scales\", \"views\": [\"view_1\"]}, {\"name\": \"param_3\", \"select\": {\"type\": \"interval\", \"encodings\": [\"x\", \"y\"]}, \"bind\": \"scales\", \"views\": [\"view_2\"]}, {\"name\": \"param_2\", \"select\": {\"type\": \"interval\", \"encodings\": [\"x\", \"y\"]}, \"bind\": \"scales\", \"views\": [\"view_3\"]}, {\"name\": \"param_4\", \"select\": {\"type\": \"interval\", \"encodings\": [\"x\", \"y\"]}, \"bind\": \"scales\", \"views\": [\"view_4\"]}], \"$schema\": \"https://vega.github.io/schema/vega-lite/v5.16.3.json\", \"datasets\": {\"data-603cc6cac3297f84e3f20a85eb69b1fe\": [{\"species\": \"Adelie\", \"island\": \"Torgersen\", \"culmen_length_mm\": 39.1, \"culmen_depth_mm\": 18.7, \"flipper_length_mm\": 181.0, \"body_mass_g\": 3750.0, \"sex\": \"MALE\"}, {\"species\": \"Adelie\", \"island\": \"Torgersen\", \"culmen_length_mm\": 39.5, \"culmen_depth_mm\": 17.4, \"flipper_length_mm\": 186.0, \"body_mass_g\": 3800.0, \"sex\": \"FEMALE\"}, {\"species\": \"Adelie\", \"island\": \"Torgersen\", \"culmen_length_mm\": 40.3, \"culmen_depth_mm\": 18.0, \"flipper_length_mm\": 195.0, \"body_mass_g\": 3250.0, \"sex\": \"FEMALE\"}, {\"species\": \"Adelie\", \"island\": \"Torgersen\", \"culmen_length_mm\": 36.7, \"culmen_depth_mm\": 19.3, \"flipper_length_mm\": 193.0, \"body_mass_g\": 3450.0, \"sex\": \"FEMALE\"}, {\"species\": \"Adelie\", \"island\": \"Torgersen\", \"culmen_length_mm\": 39.3, \"culmen_depth_mm\": 20.6, \"flipper_length_mm\": 190.0, \"body_mass_g\": 3650.0, \"sex\": \"MALE\"}, {\"species\": \"Adelie\", \"island\": \"Torgersen\", \"culmen_length_mm\": 38.9, \"culmen_depth_mm\": 17.8, \"flipper_length_mm\": 181.0, \"body_mass_g\": 3625.0, \"sex\": \"FEMALE\"}, {\"species\": \"Adelie\", \"island\": \"Torgersen\", \"culmen_length_mm\": 39.2, \"culmen_depth_mm\": 19.6, \"flipper_length_mm\": 195.0, \"body_mass_g\": 4675.0, \"sex\": \"MALE\"}, {\"species\": \"Adelie\", \"island\": \"Torgersen\", \"culmen_length_mm\": 41.1, \"culmen_depth_mm\": 17.6, \"flipper_length_mm\": 182.0, \"body_mass_g\": 3200.0, \"sex\": \"FEMALE\"}, {\"species\": \"Adelie\", \"island\": \"Torgersen\", \"culmen_length_mm\": 38.6, \"culmen_depth_mm\": 21.2, \"flipper_length_mm\": 191.0, \"body_mass_g\": 3800.0, \"sex\": \"MALE\"}, {\"species\": \"Adelie\", \"island\": \"Torgersen\", \"culmen_length_mm\": 34.6, \"culmen_depth_mm\": 21.1, \"flipper_length_mm\": 198.0, \"body_mass_g\": 4400.0, \"sex\": \"MALE\"}, {\"species\": \"Adelie\", \"island\": \"Torgersen\", \"culmen_length_mm\": 36.6, \"culmen_depth_mm\": 17.8, \"flipper_length_mm\": 185.0, \"body_mass_g\": 3700.0, \"sex\": \"FEMALE\"}, {\"species\": \"Adelie\", \"island\": \"Torgersen\", \"culmen_length_mm\": 38.7, \"culmen_depth_mm\": 19.0, \"flipper_length_mm\": 195.0, \"body_mass_g\": 3450.0, \"sex\": \"FEMALE\"}, {\"species\": \"Adelie\", \"island\": \"Torgersen\", \"culmen_length_mm\": 42.5, \"culmen_depth_mm\": 20.7, \"flipper_length_mm\": 197.0, \"body_mass_g\": 4500.0, \"sex\": \"MALE\"}, {\"species\": \"Adelie\", \"island\": \"Torgersen\", \"culmen_length_mm\": 34.4, \"culmen_depth_mm\": 18.4, \"flipper_length_mm\": 184.0, \"body_mass_g\": 3325.0, \"sex\": \"FEMALE\"}, {\"species\": \"Adelie\", \"island\": \"Torgersen\", \"culmen_length_mm\": 46.0, \"culmen_depth_mm\": 21.5, \"flipper_length_mm\": 194.0, \"body_mass_g\": 4200.0, \"sex\": \"MALE\"}, {\"species\": \"Adelie\", \"island\": \"Biscoe\", \"culmen_length_mm\": 37.8, \"culmen_depth_mm\": 18.3, \"flipper_length_mm\": 174.0, \"body_mass_g\": 3400.0, \"sex\": \"FEMALE\"}, {\"species\": \"Adelie\", \"island\": \"Biscoe\", \"culmen_length_mm\": 37.7, \"culmen_depth_mm\": 18.7, \"flipper_length_mm\": 180.0, \"body_mass_g\": 3600.0, \"sex\": \"MALE\"}, {\"species\": \"Adelie\", \"island\": \"Biscoe\", \"culmen_length_mm\": 35.9, \"culmen_depth_mm\": 19.2, \"flipper_length_mm\": 189.0, \"body_mass_g\": 3800.0, \"sex\": \"FEMALE\"}, {\"species\": \"Adelie\", \"island\": \"Biscoe\", \"culmen_length_mm\": 38.2, \"culmen_depth_mm\": 18.1, \"flipper_length_mm\": 185.0, \"body_mass_g\": 3950.0, \"sex\": \"MALE\"}, {\"species\": \"Adelie\", \"island\": \"Biscoe\", \"culmen_length_mm\": 38.8, \"culmen_depth_mm\": 17.2, \"flipper_length_mm\": 180.0, \"body_mass_g\": 3800.0, \"sex\": \"MALE\"}, {\"species\": \"Adelie\", \"island\": \"Biscoe\", \"culmen_length_mm\": 35.3, \"culmen_depth_mm\": 18.9, \"flipper_length_mm\": 187.0, \"body_mass_g\": 3800.0, \"sex\": \"FEMALE\"}, {\"species\": \"Adelie\", \"island\": \"Biscoe\", \"culmen_length_mm\": 40.6, \"culmen_depth_mm\": 18.6, \"flipper_length_mm\": 183.0, \"body_mass_g\": 3550.0, \"sex\": \"MALE\"}, {\"species\": \"Adelie\", \"island\": \"Biscoe\", \"culmen_length_mm\": 40.5, \"culmen_depth_mm\": 17.9, \"flipper_length_mm\": 187.0, \"body_mass_g\": 3200.0, \"sex\": \"FEMALE\"}, {\"species\": \"Adelie\", \"island\": \"Biscoe\", \"culmen_length_mm\": 37.9, \"culmen_depth_mm\": 18.6, \"flipper_length_mm\": 172.0, \"body_mass_g\": 3150.0, \"sex\": \"FEMALE\"}, {\"species\": \"Adelie\", \"island\": \"Biscoe\", \"culmen_length_mm\": 40.5, \"culmen_depth_mm\": 18.9, \"flipper_length_mm\": 180.0, \"body_mass_g\": 3950.0, \"sex\": \"MALE\"}, {\"species\": \"Adelie\", \"island\": \"Dream\", \"culmen_length_mm\": 39.5, \"culmen_depth_mm\": 16.7, \"flipper_length_mm\": 178.0, \"body_mass_g\": 3250.0, \"sex\": \"FEMALE\"}, {\"species\": \"Adelie\", \"island\": \"Dream\", \"culmen_length_mm\": 37.2, \"culmen_depth_mm\": 18.1, \"flipper_length_mm\": 178.0, \"body_mass_g\": 3900.0, \"sex\": \"MALE\"}, {\"species\": \"Adelie\", \"island\": \"Dream\", \"culmen_length_mm\": 39.5, \"culmen_depth_mm\": 17.8, \"flipper_length_mm\": 188.0, \"body_mass_g\": 3300.0, \"sex\": \"FEMALE\"}, {\"species\": \"Adelie\", \"island\": \"Dream\", \"culmen_length_mm\": 40.9, \"culmen_depth_mm\": 18.9, \"flipper_length_mm\": 184.0, \"body_mass_g\": 3900.0, \"sex\": \"MALE\"}, {\"species\": \"Adelie\", \"island\": \"Dream\", \"culmen_length_mm\": 36.4, \"culmen_depth_mm\": 17.0, \"flipper_length_mm\": 195.0, \"body_mass_g\": 3325.0, \"sex\": \"FEMALE\"}, {\"species\": \"Adelie\", \"island\": \"Dream\", \"culmen_length_mm\": 39.2, \"culmen_depth_mm\": 21.1, \"flipper_length_mm\": 196.0, \"body_mass_g\": 4150.0, \"sex\": \"MALE\"}, {\"species\": \"Adelie\", \"island\": \"Dream\", \"culmen_length_mm\": 38.8, \"culmen_depth_mm\": 20.0, \"flipper_length_mm\": 190.0, \"body_mass_g\": 3950.0, \"sex\": \"MALE\"}, {\"species\": \"Adelie\", \"island\": \"Dream\", \"culmen_length_mm\": 42.2, \"culmen_depth_mm\": 18.5, \"flipper_length_mm\": 180.0, \"body_mass_g\": 3550.0, \"sex\": \"FEMALE\"}, {\"species\": \"Adelie\", \"island\": \"Dream\", \"culmen_length_mm\": 37.6, \"culmen_depth_mm\": 19.3, \"flipper_length_mm\": 181.0, \"body_mass_g\": 3300.0, \"sex\": \"FEMALE\"}, {\"species\": \"Adelie\", \"island\": \"Dream\", \"culmen_length_mm\": 39.8, \"culmen_depth_mm\": 19.1, \"flipper_length_mm\": 184.0, \"body_mass_g\": 4650.0, \"sex\": \"MALE\"}, {\"species\": \"Adelie\", \"island\": \"Dream\", \"culmen_length_mm\": 36.5, \"culmen_depth_mm\": 18.0, \"flipper_length_mm\": 182.0, \"body_mass_g\": 3150.0, \"sex\": \"FEMALE\"}, {\"species\": \"Adelie\", \"island\": \"Dream\", \"culmen_length_mm\": 40.8, \"culmen_depth_mm\": 18.4, \"flipper_length_mm\": 195.0, \"body_mass_g\": 3900.0, \"sex\": \"MALE\"}, {\"species\": \"Adelie\", \"island\": \"Dream\", \"culmen_length_mm\": 36.0, \"culmen_depth_mm\": 18.5, \"flipper_length_mm\": 186.0, \"body_mass_g\": 3100.0, \"sex\": \"FEMALE\"}, {\"species\": \"Adelie\", \"island\": \"Dream\", \"culmen_length_mm\": 44.1, \"culmen_depth_mm\": 19.7, \"flipper_length_mm\": 196.0, \"body_mass_g\": 4400.0, \"sex\": \"MALE\"}, {\"species\": \"Adelie\", \"island\": \"Dream\", \"culmen_length_mm\": 37.0, \"culmen_depth_mm\": 16.9, \"flipper_length_mm\": 185.0, \"body_mass_g\": 3000.0, \"sex\": \"FEMALE\"}, {\"species\": \"Adelie\", \"island\": \"Dream\", \"culmen_length_mm\": 39.6, \"culmen_depth_mm\": 18.8, \"flipper_length_mm\": 190.0, \"body_mass_g\": 4600.0, \"sex\": \"MALE\"}, {\"species\": \"Adelie\", \"island\": \"Dream\", \"culmen_length_mm\": 41.1, \"culmen_depth_mm\": 19.0, \"flipper_length_mm\": 182.0, \"body_mass_g\": 3425.0, \"sex\": \"MALE\"}, {\"species\": \"Adelie\", \"island\": \"Dream\", \"culmen_length_mm\": 36.0, \"culmen_depth_mm\": 17.9, \"flipper_length_mm\": 190.0, \"body_mass_g\": 3450.0, \"sex\": \"FEMALE\"}, {\"species\": \"Adelie\", \"island\": \"Dream\", \"culmen_length_mm\": 42.3, \"culmen_depth_mm\": 21.2, \"flipper_length_mm\": 191.0, \"body_mass_g\": 4150.0, \"sex\": \"MALE\"}, {\"species\": \"Adelie\", \"island\": \"Biscoe\", \"culmen_length_mm\": 39.6, \"culmen_depth_mm\": 17.7, \"flipper_length_mm\": 186.0, \"body_mass_g\": 3500.0, \"sex\": \"FEMALE\"}, {\"species\": \"Adelie\", \"island\": \"Biscoe\", \"culmen_length_mm\": 40.1, \"culmen_depth_mm\": 18.9, \"flipper_length_mm\": 188.0, \"body_mass_g\": 4300.0, \"sex\": \"MALE\"}, {\"species\": \"Adelie\", \"island\": \"Biscoe\", \"culmen_length_mm\": 35.0, \"culmen_depth_mm\": 17.9, \"flipper_length_mm\": 190.0, \"body_mass_g\": 3450.0, \"sex\": \"FEMALE\"}, {\"species\": \"Adelie\", \"island\": \"Biscoe\", \"culmen_length_mm\": 42.0, \"culmen_depth_mm\": 19.5, \"flipper_length_mm\": 200.0, \"body_mass_g\": 4050.0, \"sex\": \"MALE\"}, {\"species\": \"Adelie\", \"island\": \"Biscoe\", \"culmen_length_mm\": 34.5, \"culmen_depth_mm\": 18.1, \"flipper_length_mm\": 187.0, \"body_mass_g\": 2900.0, \"sex\": \"FEMALE\"}, {\"species\": \"Adelie\", \"island\": \"Biscoe\", \"culmen_length_mm\": 41.4, \"culmen_depth_mm\": 18.6, \"flipper_length_mm\": 191.0, \"body_mass_g\": 3700.0, \"sex\": \"MALE\"}, {\"species\": \"Adelie\", \"island\": \"Biscoe\", \"culmen_length_mm\": 39.0, \"culmen_depth_mm\": 17.5, \"flipper_length_mm\": 186.0, \"body_mass_g\": 3550.0, \"sex\": \"FEMALE\"}, {\"species\": \"Adelie\", \"island\": \"Biscoe\", \"culmen_length_mm\": 40.6, \"culmen_depth_mm\": 18.8, \"flipper_length_mm\": 193.0, \"body_mass_g\": 3800.0, \"sex\": \"MALE\"}, {\"species\": \"Adelie\", \"island\": \"Biscoe\", \"culmen_length_mm\": 36.5, \"culmen_depth_mm\": 16.6, \"flipper_length_mm\": 181.0, \"body_mass_g\": 2850.0, \"sex\": \"FEMALE\"}, {\"species\": \"Adelie\", \"island\": \"Biscoe\", \"culmen_length_mm\": 37.6, \"culmen_depth_mm\": 19.1, \"flipper_length_mm\": 194.0, \"body_mass_g\": 3750.0, \"sex\": \"MALE\"}, {\"species\": \"Adelie\", \"island\": \"Biscoe\", \"culmen_length_mm\": 35.7, \"culmen_depth_mm\": 16.9, \"flipper_length_mm\": 185.0, \"body_mass_g\": 3150.0, \"sex\": \"FEMALE\"}, {\"species\": \"Adelie\", \"island\": \"Biscoe\", \"culmen_length_mm\": 41.3, \"culmen_depth_mm\": 21.1, \"flipper_length_mm\": 195.0, \"body_mass_g\": 4400.0, \"sex\": \"MALE\"}, {\"species\": \"Adelie\", \"island\": \"Biscoe\", \"culmen_length_mm\": 37.6, \"culmen_depth_mm\": 17.0, \"flipper_length_mm\": 185.0, \"body_mass_g\": 3600.0, \"sex\": \"FEMALE\"}, {\"species\": \"Adelie\", \"island\": \"Biscoe\", \"culmen_length_mm\": 41.1, \"culmen_depth_mm\": 18.2, \"flipper_length_mm\": 192.0, \"body_mass_g\": 4050.0, \"sex\": \"MALE\"}, {\"species\": \"Adelie\", \"island\": \"Biscoe\", \"culmen_length_mm\": 36.4, \"culmen_depth_mm\": 17.1, \"flipper_length_mm\": 184.0, \"body_mass_g\": 2850.0, \"sex\": \"FEMALE\"}, {\"species\": \"Adelie\", \"island\": \"Biscoe\", \"culmen_length_mm\": 41.6, \"culmen_depth_mm\": 18.0, \"flipper_length_mm\": 192.0, \"body_mass_g\": 3950.0, \"sex\": \"MALE\"}, {\"species\": \"Adelie\", \"island\": \"Biscoe\", \"culmen_length_mm\": 35.5, \"culmen_depth_mm\": 16.2, \"flipper_length_mm\": 195.0, \"body_mass_g\": 3350.0, \"sex\": \"FEMALE\"}, {\"species\": \"Adelie\", \"island\": \"Biscoe\", \"culmen_length_mm\": 41.1, \"culmen_depth_mm\": 19.1, \"flipper_length_mm\": 188.0, \"body_mass_g\": 4100.0, \"sex\": \"MALE\"}, {\"species\": \"Adelie\", \"island\": \"Torgersen\", \"culmen_length_mm\": 35.9, \"culmen_depth_mm\": 16.6, \"flipper_length_mm\": 190.0, \"body_mass_g\": 3050.0, \"sex\": \"FEMALE\"}, {\"species\": \"Adelie\", \"island\": \"Torgersen\", \"culmen_length_mm\": 41.8, \"culmen_depth_mm\": 19.4, \"flipper_length_mm\": 198.0, \"body_mass_g\": 4450.0, \"sex\": \"MALE\"}, {\"species\": \"Adelie\", \"island\": \"Torgersen\", \"culmen_length_mm\": 33.5, \"culmen_depth_mm\": 19.0, \"flipper_length_mm\": 190.0, \"body_mass_g\": 3600.0, \"sex\": \"FEMALE\"}, {\"species\": \"Adelie\", \"island\": \"Torgersen\", \"culmen_length_mm\": 39.7, \"culmen_depth_mm\": 18.4, \"flipper_length_mm\": 190.0, \"body_mass_g\": 3900.0, \"sex\": \"MALE\"}, {\"species\": \"Adelie\", \"island\": \"Torgersen\", \"culmen_length_mm\": 39.6, \"culmen_depth_mm\": 17.2, \"flipper_length_mm\": 196.0, \"body_mass_g\": 3550.0, \"sex\": \"FEMALE\"}, {\"species\": \"Adelie\", \"island\": \"Torgersen\", \"culmen_length_mm\": 45.8, \"culmen_depth_mm\": 18.9, \"flipper_length_mm\": 197.0, \"body_mass_g\": 4150.0, \"sex\": \"MALE\"}, {\"species\": \"Adelie\", \"island\": \"Torgersen\", \"culmen_length_mm\": 35.5, \"culmen_depth_mm\": 17.5, \"flipper_length_mm\": 190.0, \"body_mass_g\": 3700.0, \"sex\": \"FEMALE\"}, {\"species\": \"Adelie\", \"island\": \"Torgersen\", \"culmen_length_mm\": 42.8, \"culmen_depth_mm\": 18.5, \"flipper_length_mm\": 195.0, \"body_mass_g\": 4250.0, \"sex\": \"MALE\"}, {\"species\": \"Adelie\", \"island\": \"Torgersen\", \"culmen_length_mm\": 40.9, \"culmen_depth_mm\": 16.8, \"flipper_length_mm\": 191.0, \"body_mass_g\": 3700.0, \"sex\": \"FEMALE\"}, {\"species\": \"Adelie\", \"island\": \"Torgersen\", \"culmen_length_mm\": 37.2, \"culmen_depth_mm\": 19.4, \"flipper_length_mm\": 184.0, \"body_mass_g\": 3900.0, \"sex\": \"MALE\"}, {\"species\": \"Adelie\", \"island\": \"Torgersen\", \"culmen_length_mm\": 36.2, \"culmen_depth_mm\": 16.1, \"flipper_length_mm\": 187.0, \"body_mass_g\": 3550.0, \"sex\": \"FEMALE\"}, {\"species\": \"Adelie\", \"island\": \"Torgersen\", \"culmen_length_mm\": 42.1, \"culmen_depth_mm\": 19.1, \"flipper_length_mm\": 195.0, \"body_mass_g\": 4000.0, \"sex\": \"MALE\"}, {\"species\": \"Adelie\", \"island\": \"Torgersen\", \"culmen_length_mm\": 34.6, \"culmen_depth_mm\": 17.2, \"flipper_length_mm\": 189.0, \"body_mass_g\": 3200.0, \"sex\": \"FEMALE\"}, {\"species\": \"Adelie\", \"island\": \"Torgersen\", \"culmen_length_mm\": 42.9, \"culmen_depth_mm\": 17.6, \"flipper_length_mm\": 196.0, \"body_mass_g\": 4700.0, \"sex\": \"MALE\"}, {\"species\": \"Adelie\", \"island\": \"Torgersen\", \"culmen_length_mm\": 36.7, \"culmen_depth_mm\": 18.8, \"flipper_length_mm\": 187.0, \"body_mass_g\": 3800.0, \"sex\": \"FEMALE\"}, {\"species\": \"Adelie\", \"island\": \"Torgersen\", \"culmen_length_mm\": 35.1, \"culmen_depth_mm\": 19.4, \"flipper_length_mm\": 193.0, \"body_mass_g\": 4200.0, \"sex\": \"MALE\"}, {\"species\": \"Adelie\", \"island\": \"Dream\", \"culmen_length_mm\": 37.3, \"culmen_depth_mm\": 17.8, \"flipper_length_mm\": 191.0, \"body_mass_g\": 3350.0, \"sex\": \"FEMALE\"}, {\"species\": \"Adelie\", \"island\": \"Dream\", \"culmen_length_mm\": 41.3, \"culmen_depth_mm\": 20.3, \"flipper_length_mm\": 194.0, \"body_mass_g\": 3550.0, \"sex\": \"MALE\"}, {\"species\": \"Adelie\", \"island\": \"Dream\", \"culmen_length_mm\": 36.3, \"culmen_depth_mm\": 19.5, \"flipper_length_mm\": 190.0, \"body_mass_g\": 3800.0, \"sex\": \"MALE\"}, {\"species\": \"Adelie\", \"island\": \"Dream\", \"culmen_length_mm\": 36.9, \"culmen_depth_mm\": 18.6, \"flipper_length_mm\": 189.0, \"body_mass_g\": 3500.0, \"sex\": \"FEMALE\"}, {\"species\": \"Adelie\", \"island\": \"Dream\", \"culmen_length_mm\": 38.3, \"culmen_depth_mm\": 19.2, \"flipper_length_mm\": 189.0, \"body_mass_g\": 3950.0, \"sex\": \"MALE\"}, {\"species\": \"Adelie\", \"island\": \"Dream\", \"culmen_length_mm\": 38.9, \"culmen_depth_mm\": 18.8, \"flipper_length_mm\": 190.0, \"body_mass_g\": 3600.0, \"sex\": \"FEMALE\"}, {\"species\": \"Adelie\", \"island\": \"Dream\", \"culmen_length_mm\": 35.7, \"culmen_depth_mm\": 18.0, \"flipper_length_mm\": 202.0, \"body_mass_g\": 3550.0, \"sex\": \"FEMALE\"}, {\"species\": \"Adelie\", \"island\": \"Dream\", \"culmen_length_mm\": 41.1, \"culmen_depth_mm\": 18.1, \"flipper_length_mm\": 205.0, \"body_mass_g\": 4300.0, \"sex\": \"MALE\"}, {\"species\": \"Adelie\", \"island\": \"Dream\", \"culmen_length_mm\": 34.0, \"culmen_depth_mm\": 17.1, \"flipper_length_mm\": 185.0, \"body_mass_g\": 3400.0, \"sex\": \"FEMALE\"}, {\"species\": \"Adelie\", \"island\": \"Dream\", \"culmen_length_mm\": 39.6, \"culmen_depth_mm\": 18.1, \"flipper_length_mm\": 186.0, \"body_mass_g\": 4450.0, \"sex\": \"MALE\"}, {\"species\": \"Adelie\", \"island\": \"Dream\", \"culmen_length_mm\": 36.2, \"culmen_depth_mm\": 17.3, \"flipper_length_mm\": 187.0, \"body_mass_g\": 3300.0, \"sex\": \"FEMALE\"}, {\"species\": \"Adelie\", \"island\": \"Dream\", \"culmen_length_mm\": 40.8, \"culmen_depth_mm\": 18.9, \"flipper_length_mm\": 208.0, \"body_mass_g\": 4300.0, \"sex\": \"MALE\"}, {\"species\": \"Adelie\", \"island\": \"Dream\", \"culmen_length_mm\": 38.1, \"culmen_depth_mm\": 18.6, \"flipper_length_mm\": 190.0, \"body_mass_g\": 3700.0, \"sex\": \"FEMALE\"}, {\"species\": \"Adelie\", \"island\": \"Dream\", \"culmen_length_mm\": 40.3, \"culmen_depth_mm\": 18.5, \"flipper_length_mm\": 196.0, \"body_mass_g\": 4350.0, \"sex\": \"MALE\"}, {\"species\": \"Adelie\", \"island\": \"Dream\", \"culmen_length_mm\": 33.1, \"culmen_depth_mm\": 16.1, \"flipper_length_mm\": 178.0, \"body_mass_g\": 2900.0, \"sex\": \"FEMALE\"}, {\"species\": \"Adelie\", \"island\": \"Dream\", \"culmen_length_mm\": 43.2, \"culmen_depth_mm\": 18.5, \"flipper_length_mm\": 192.0, \"body_mass_g\": 4100.0, \"sex\": \"MALE\"}, {\"species\": \"Adelie\", \"island\": \"Biscoe\", \"culmen_length_mm\": 35.0, \"culmen_depth_mm\": 17.9, \"flipper_length_mm\": 192.0, \"body_mass_g\": 3725.0, \"sex\": \"FEMALE\"}, {\"species\": \"Adelie\", \"island\": \"Biscoe\", \"culmen_length_mm\": 41.0, \"culmen_depth_mm\": 20.0, \"flipper_length_mm\": 203.0, \"body_mass_g\": 4725.0, \"sex\": \"MALE\"}, {\"species\": \"Adelie\", \"island\": \"Biscoe\", \"culmen_length_mm\": 37.7, \"culmen_depth_mm\": 16.0, \"flipper_length_mm\": 183.0, \"body_mass_g\": 3075.0, \"sex\": \"FEMALE\"}, {\"species\": \"Adelie\", \"island\": \"Biscoe\", \"culmen_length_mm\": 37.8, \"culmen_depth_mm\": 20.0, \"flipper_length_mm\": 190.0, \"body_mass_g\": 4250.0, \"sex\": \"MALE\"}, {\"species\": \"Adelie\", \"island\": \"Biscoe\", \"culmen_length_mm\": 37.9, \"culmen_depth_mm\": 18.6, \"flipper_length_mm\": 193.0, \"body_mass_g\": 2925.0, \"sex\": \"FEMALE\"}, {\"species\": \"Adelie\", \"island\": \"Biscoe\", \"culmen_length_mm\": 39.7, \"culmen_depth_mm\": 18.9, \"flipper_length_mm\": 184.0, \"body_mass_g\": 3550.0, \"sex\": \"MALE\"}, {\"species\": \"Adelie\", \"island\": \"Biscoe\", \"culmen_length_mm\": 38.6, \"culmen_depth_mm\": 17.2, \"flipper_length_mm\": 199.0, \"body_mass_g\": 3750.0, \"sex\": \"FEMALE\"}, {\"species\": \"Adelie\", \"island\": \"Biscoe\", \"culmen_length_mm\": 38.2, \"culmen_depth_mm\": 20.0, \"flipper_length_mm\": 190.0, \"body_mass_g\": 3900.0, \"sex\": \"MALE\"}, {\"species\": \"Adelie\", \"island\": \"Biscoe\", \"culmen_length_mm\": 38.1, \"culmen_depth_mm\": 17.0, \"flipper_length_mm\": 181.0, \"body_mass_g\": 3175.0, \"sex\": \"FEMALE\"}, {\"species\": \"Adelie\", \"island\": \"Biscoe\", \"culmen_length_mm\": 43.2, \"culmen_depth_mm\": 19.0, \"flipper_length_mm\": 197.0, \"body_mass_g\": 4775.0, \"sex\": \"MALE\"}, {\"species\": \"Adelie\", \"island\": \"Biscoe\", \"culmen_length_mm\": 38.1, \"culmen_depth_mm\": 16.5, \"flipper_length_mm\": 198.0, \"body_mass_g\": 3825.0, \"sex\": \"FEMALE\"}, {\"species\": \"Adelie\", \"island\": \"Biscoe\", \"culmen_length_mm\": 45.6, \"culmen_depth_mm\": 20.3, \"flipper_length_mm\": 191.0, \"body_mass_g\": 4600.0, \"sex\": \"MALE\"}, {\"species\": \"Adelie\", \"island\": \"Biscoe\", \"culmen_length_mm\": 39.7, \"culmen_depth_mm\": 17.7, \"flipper_length_mm\": 193.0, \"body_mass_g\": 3200.0, \"sex\": \"FEMALE\"}, {\"species\": \"Adelie\", \"island\": \"Biscoe\", \"culmen_length_mm\": 42.2, \"culmen_depth_mm\": 19.5, \"flipper_length_mm\": 197.0, \"body_mass_g\": 4275.0, \"sex\": \"MALE\"}, {\"species\": \"Adelie\", \"island\": \"Biscoe\", \"culmen_length_mm\": 39.6, \"culmen_depth_mm\": 20.7, \"flipper_length_mm\": 191.0, \"body_mass_g\": 3900.0, \"sex\": \"FEMALE\"}, {\"species\": \"Adelie\", \"island\": \"Biscoe\", \"culmen_length_mm\": 42.7, \"culmen_depth_mm\": 18.3, \"flipper_length_mm\": 196.0, \"body_mass_g\": 4075.0, \"sex\": \"MALE\"}, {\"species\": \"Adelie\", \"island\": \"Torgersen\", \"culmen_length_mm\": 38.6, \"culmen_depth_mm\": 17.0, \"flipper_length_mm\": 188.0, \"body_mass_g\": 2900.0, \"sex\": \"FEMALE\"}, {\"species\": \"Adelie\", \"island\": \"Torgersen\", \"culmen_length_mm\": 37.3, \"culmen_depth_mm\": 20.5, \"flipper_length_mm\": 199.0, \"body_mass_g\": 3775.0, \"sex\": \"MALE\"}, {\"species\": \"Adelie\", \"island\": \"Torgersen\", \"culmen_length_mm\": 35.7, \"culmen_depth_mm\": 17.0, \"flipper_length_mm\": 189.0, \"body_mass_g\": 3350.0, \"sex\": \"FEMALE\"}, {\"species\": \"Adelie\", \"island\": \"Torgersen\", \"culmen_length_mm\": 41.1, \"culmen_depth_mm\": 18.6, \"flipper_length_mm\": 189.0, \"body_mass_g\": 3325.0, \"sex\": \"MALE\"}, {\"species\": \"Adelie\", \"island\": \"Torgersen\", \"culmen_length_mm\": 36.2, \"culmen_depth_mm\": 17.2, \"flipper_length_mm\": 187.0, \"body_mass_g\": 3150.0, \"sex\": \"FEMALE\"}, {\"species\": \"Adelie\", \"island\": \"Torgersen\", \"culmen_length_mm\": 37.7, \"culmen_depth_mm\": 19.8, \"flipper_length_mm\": 198.0, \"body_mass_g\": 3500.0, \"sex\": \"MALE\"}, {\"species\": \"Adelie\", \"island\": \"Torgersen\", \"culmen_length_mm\": 40.2, \"culmen_depth_mm\": 17.0, \"flipper_length_mm\": 176.0, \"body_mass_g\": 3450.0, \"sex\": \"FEMALE\"}, {\"species\": \"Adelie\", \"island\": \"Torgersen\", \"culmen_length_mm\": 41.4, \"culmen_depth_mm\": 18.5, \"flipper_length_mm\": 202.0, \"body_mass_g\": 3875.0, \"sex\": \"MALE\"}, {\"species\": \"Adelie\", \"island\": \"Torgersen\", \"culmen_length_mm\": 35.2, \"culmen_depth_mm\": 15.9, \"flipper_length_mm\": 186.0, \"body_mass_g\": 3050.0, \"sex\": \"FEMALE\"}, {\"species\": \"Adelie\", \"island\": \"Torgersen\", \"culmen_length_mm\": 40.6, \"culmen_depth_mm\": 19.0, \"flipper_length_mm\": 199.0, \"body_mass_g\": 4000.0, \"sex\": \"MALE\"}, {\"species\": \"Adelie\", \"island\": \"Torgersen\", \"culmen_length_mm\": 38.8, \"culmen_depth_mm\": 17.6, \"flipper_length_mm\": 191.0, \"body_mass_g\": 3275.0, \"sex\": \"FEMALE\"}, {\"species\": \"Adelie\", \"island\": \"Torgersen\", \"culmen_length_mm\": 41.5, \"culmen_depth_mm\": 18.3, \"flipper_length_mm\": 195.0, \"body_mass_g\": 4300.0, \"sex\": \"MALE\"}, {\"species\": \"Adelie\", \"island\": \"Torgersen\", \"culmen_length_mm\": 39.0, \"culmen_depth_mm\": 17.1, \"flipper_length_mm\": 191.0, \"body_mass_g\": 3050.0, \"sex\": \"FEMALE\"}, {\"species\": \"Adelie\", \"island\": \"Torgersen\", \"culmen_length_mm\": 44.1, \"culmen_depth_mm\": 18.0, \"flipper_length_mm\": 210.0, \"body_mass_g\": 4000.0, \"sex\": \"MALE\"}, {\"species\": \"Adelie\", \"island\": \"Torgersen\", \"culmen_length_mm\": 38.5, \"culmen_depth_mm\": 17.9, \"flipper_length_mm\": 190.0, \"body_mass_g\": 3325.0, \"sex\": \"FEMALE\"}, {\"species\": \"Adelie\", \"island\": \"Torgersen\", \"culmen_length_mm\": 43.1, \"culmen_depth_mm\": 19.2, \"flipper_length_mm\": 197.0, \"body_mass_g\": 3500.0, \"sex\": \"MALE\"}, {\"species\": \"Adelie\", \"island\": \"Dream\", \"culmen_length_mm\": 36.8, \"culmen_depth_mm\": 18.5, \"flipper_length_mm\": 193.0, \"body_mass_g\": 3500.0, \"sex\": \"FEMALE\"}, {\"species\": \"Adelie\", \"island\": \"Dream\", \"culmen_length_mm\": 37.5, \"culmen_depth_mm\": 18.5, \"flipper_length_mm\": 199.0, \"body_mass_g\": 4475.0, \"sex\": \"MALE\"}, {\"species\": \"Adelie\", \"island\": \"Dream\", \"culmen_length_mm\": 38.1, \"culmen_depth_mm\": 17.6, \"flipper_length_mm\": 187.0, \"body_mass_g\": 3425.0, \"sex\": \"FEMALE\"}, {\"species\": \"Adelie\", \"island\": \"Dream\", \"culmen_length_mm\": 41.1, \"culmen_depth_mm\": 17.5, \"flipper_length_mm\": 190.0, \"body_mass_g\": 3900.0, \"sex\": \"MALE\"}, {\"species\": \"Adelie\", \"island\": \"Dream\", \"culmen_length_mm\": 35.6, \"culmen_depth_mm\": 17.5, \"flipper_length_mm\": 191.0, \"body_mass_g\": 3175.0, \"sex\": \"FEMALE\"}, {\"species\": \"Adelie\", \"island\": \"Dream\", \"culmen_length_mm\": 40.2, \"culmen_depth_mm\": 20.1, \"flipper_length_mm\": 200.0, \"body_mass_g\": 3975.0, \"sex\": \"MALE\"}, {\"species\": \"Adelie\", \"island\": \"Dream\", \"culmen_length_mm\": 37.0, \"culmen_depth_mm\": 16.5, \"flipper_length_mm\": 185.0, \"body_mass_g\": 3400.0, \"sex\": \"FEMALE\"}, {\"species\": \"Adelie\", \"island\": \"Dream\", \"culmen_length_mm\": 39.7, \"culmen_depth_mm\": 17.9, \"flipper_length_mm\": 193.0, \"body_mass_g\": 4250.0, \"sex\": \"MALE\"}, {\"species\": \"Adelie\", \"island\": \"Dream\", \"culmen_length_mm\": 40.2, \"culmen_depth_mm\": 17.1, \"flipper_length_mm\": 193.0, \"body_mass_g\": 3400.0, \"sex\": \"FEMALE\"}, {\"species\": \"Adelie\", \"island\": \"Dream\", \"culmen_length_mm\": 40.6, \"culmen_depth_mm\": 17.2, \"flipper_length_mm\": 187.0, \"body_mass_g\": 3475.0, \"sex\": \"MALE\"}, {\"species\": \"Adelie\", \"island\": \"Dream\", \"culmen_length_mm\": 32.1, \"culmen_depth_mm\": 15.5, \"flipper_length_mm\": 188.0, \"body_mass_g\": 3050.0, \"sex\": \"FEMALE\"}, {\"species\": \"Adelie\", \"island\": \"Dream\", \"culmen_length_mm\": 40.7, \"culmen_depth_mm\": 17.0, \"flipper_length_mm\": 190.0, \"body_mass_g\": 3725.0, \"sex\": \"MALE\"}, {\"species\": \"Adelie\", \"island\": \"Dream\", \"culmen_length_mm\": 37.3, \"culmen_depth_mm\": 16.8, \"flipper_length_mm\": 192.0, \"body_mass_g\": 3000.0, \"sex\": \"FEMALE\"}, {\"species\": \"Adelie\", \"island\": \"Dream\", \"culmen_length_mm\": 39.0, \"culmen_depth_mm\": 18.7, \"flipper_length_mm\": 185.0, \"body_mass_g\": 3650.0, \"sex\": \"MALE\"}, {\"species\": \"Adelie\", \"island\": \"Dream\", \"culmen_length_mm\": 39.2, \"culmen_depth_mm\": 18.6, \"flipper_length_mm\": 190.0, \"body_mass_g\": 4250.0, \"sex\": \"MALE\"}, {\"species\": \"Adelie\", \"island\": \"Dream\", \"culmen_length_mm\": 36.6, \"culmen_depth_mm\": 18.4, \"flipper_length_mm\": 184.0, \"body_mass_g\": 3475.0, \"sex\": \"FEMALE\"}, {\"species\": \"Adelie\", \"island\": \"Dream\", \"culmen_length_mm\": 36.0, \"culmen_depth_mm\": 17.8, \"flipper_length_mm\": 195.0, \"body_mass_g\": 3450.0, \"sex\": \"FEMALE\"}, {\"species\": \"Adelie\", \"island\": \"Dream\", \"culmen_length_mm\": 37.8, \"culmen_depth_mm\": 18.1, \"flipper_length_mm\": 193.0, \"body_mass_g\": 3750.0, \"sex\": \"MALE\"}, {\"species\": \"Adelie\", \"island\": \"Dream\", \"culmen_length_mm\": 36.0, \"culmen_depth_mm\": 17.1, \"flipper_length_mm\": 187.0, \"body_mass_g\": 3700.0, \"sex\": \"FEMALE\"}, {\"species\": \"Adelie\", \"island\": \"Dream\", \"culmen_length_mm\": 41.5, \"culmen_depth_mm\": 18.5, \"flipper_length_mm\": 201.0, \"body_mass_g\": 4000.0, \"sex\": \"MALE\"}, {\"species\": \"Chinstrap\", \"island\": \"Dream\", \"culmen_length_mm\": 46.5, \"culmen_depth_mm\": 17.9, \"flipper_length_mm\": 192.0, \"body_mass_g\": 3500.0, \"sex\": \"FEMALE\"}, {\"species\": \"Chinstrap\", \"island\": \"Dream\", \"culmen_length_mm\": 50.0, \"culmen_depth_mm\": 19.5, \"flipper_length_mm\": 196.0, \"body_mass_g\": 3900.0, \"sex\": \"MALE\"}, {\"species\": \"Chinstrap\", \"island\": \"Dream\", \"culmen_length_mm\": 51.3, \"culmen_depth_mm\": 19.2, \"flipper_length_mm\": 193.0, \"body_mass_g\": 3650.0, \"sex\": \"MALE\"}, {\"species\": \"Chinstrap\", \"island\": \"Dream\", \"culmen_length_mm\": 45.4, \"culmen_depth_mm\": 18.7, \"flipper_length_mm\": 188.0, \"body_mass_g\": 3525.0, \"sex\": \"FEMALE\"}, {\"species\": \"Chinstrap\", \"island\": \"Dream\", \"culmen_length_mm\": 52.7, \"culmen_depth_mm\": 19.8, \"flipper_length_mm\": 197.0, \"body_mass_g\": 3725.0, \"sex\": \"MALE\"}, {\"species\": \"Chinstrap\", \"island\": \"Dream\", \"culmen_length_mm\": 45.2, \"culmen_depth_mm\": 17.8, \"flipper_length_mm\": 198.0, \"body_mass_g\": 3950.0, \"sex\": \"FEMALE\"}, {\"species\": \"Chinstrap\", \"island\": \"Dream\", \"culmen_length_mm\": 46.1, \"culmen_depth_mm\": 18.2, \"flipper_length_mm\": 178.0, \"body_mass_g\": 3250.0, \"sex\": \"FEMALE\"}, {\"species\": \"Chinstrap\", \"island\": \"Dream\", \"culmen_length_mm\": 51.3, \"culmen_depth_mm\": 18.2, \"flipper_length_mm\": 197.0, \"body_mass_g\": 3750.0, \"sex\": \"MALE\"}, {\"species\": \"Chinstrap\", \"island\": \"Dream\", \"culmen_length_mm\": 46.0, \"culmen_depth_mm\": 18.9, \"flipper_length_mm\": 195.0, \"body_mass_g\": 4150.0, \"sex\": \"FEMALE\"}, {\"species\": \"Chinstrap\", \"island\": \"Dream\", \"culmen_length_mm\": 51.3, \"culmen_depth_mm\": 19.9, \"flipper_length_mm\": 198.0, \"body_mass_g\": 3700.0, \"sex\": \"MALE\"}, {\"species\": \"Chinstrap\", \"island\": \"Dream\", \"culmen_length_mm\": 46.6, \"culmen_depth_mm\": 17.8, \"flipper_length_mm\": 193.0, \"body_mass_g\": 3800.0, \"sex\": \"FEMALE\"}, {\"species\": \"Chinstrap\", \"island\": \"Dream\", \"culmen_length_mm\": 51.7, \"culmen_depth_mm\": 20.3, \"flipper_length_mm\": 194.0, \"body_mass_g\": 3775.0, \"sex\": \"MALE\"}, {\"species\": \"Chinstrap\", \"island\": \"Dream\", \"culmen_length_mm\": 47.0, \"culmen_depth_mm\": 17.3, \"flipper_length_mm\": 185.0, \"body_mass_g\": 3700.0, \"sex\": \"FEMALE\"}, {\"species\": \"Chinstrap\", \"island\": \"Dream\", \"culmen_length_mm\": 52.0, \"culmen_depth_mm\": 18.1, \"flipper_length_mm\": 201.0, \"body_mass_g\": 4050.0, \"sex\": \"MALE\"}, {\"species\": \"Chinstrap\", \"island\": \"Dream\", \"culmen_length_mm\": 45.9, \"culmen_depth_mm\": 17.1, \"flipper_length_mm\": 190.0, \"body_mass_g\": 3575.0, \"sex\": \"FEMALE\"}, {\"species\": \"Chinstrap\", \"island\": \"Dream\", \"culmen_length_mm\": 50.5, \"culmen_depth_mm\": 19.6, \"flipper_length_mm\": 201.0, \"body_mass_g\": 4050.0, \"sex\": \"MALE\"}, {\"species\": \"Chinstrap\", \"island\": \"Dream\", \"culmen_length_mm\": 50.3, \"culmen_depth_mm\": 20.0, \"flipper_length_mm\": 197.0, \"body_mass_g\": 3300.0, \"sex\": \"MALE\"}, {\"species\": \"Chinstrap\", \"island\": \"Dream\", \"culmen_length_mm\": 58.0, \"culmen_depth_mm\": 17.8, \"flipper_length_mm\": 181.0, \"body_mass_g\": 3700.0, \"sex\": \"FEMALE\"}, {\"species\": \"Chinstrap\", \"island\": \"Dream\", \"culmen_length_mm\": 46.4, \"culmen_depth_mm\": 18.6, \"flipper_length_mm\": 190.0, \"body_mass_g\": 3450.0, \"sex\": \"FEMALE\"}, {\"species\": \"Chinstrap\", \"island\": \"Dream\", \"culmen_length_mm\": 49.2, \"culmen_depth_mm\": 18.2, \"flipper_length_mm\": 195.0, \"body_mass_g\": 4400.0, \"sex\": \"MALE\"}, {\"species\": \"Chinstrap\", \"island\": \"Dream\", \"culmen_length_mm\": 42.4, \"culmen_depth_mm\": 17.3, \"flipper_length_mm\": 181.0, \"body_mass_g\": 3600.0, \"sex\": \"FEMALE\"}, {\"species\": \"Chinstrap\", \"island\": \"Dream\", \"culmen_length_mm\": 48.5, \"culmen_depth_mm\": 17.5, \"flipper_length_mm\": 191.0, \"body_mass_g\": 3400.0, \"sex\": \"MALE\"}, {\"species\": \"Chinstrap\", \"island\": \"Dream\", \"culmen_length_mm\": 43.2, \"culmen_depth_mm\": 16.6, \"flipper_length_mm\": 187.0, \"body_mass_g\": 2900.0, \"sex\": \"FEMALE\"}, {\"species\": \"Chinstrap\", \"island\": \"Dream\", \"culmen_length_mm\": 50.6, \"culmen_depth_mm\": 19.4, \"flipper_length_mm\": 193.0, \"body_mass_g\": 3800.0, \"sex\": \"MALE\"}, {\"species\": \"Chinstrap\", \"island\": \"Dream\", \"culmen_length_mm\": 46.7, \"culmen_depth_mm\": 17.9, \"flipper_length_mm\": 195.0, \"body_mass_g\": 3300.0, \"sex\": \"FEMALE\"}, {\"species\": \"Chinstrap\", \"island\": \"Dream\", \"culmen_length_mm\": 52.0, \"culmen_depth_mm\": 19.0, \"flipper_length_mm\": 197.0, \"body_mass_g\": 4150.0, \"sex\": \"MALE\"}, {\"species\": \"Chinstrap\", \"island\": \"Dream\", \"culmen_length_mm\": 50.5, \"culmen_depth_mm\": 18.4, \"flipper_length_mm\": 200.0, \"body_mass_g\": 3400.0, \"sex\": \"FEMALE\"}, {\"species\": \"Chinstrap\", \"island\": \"Dream\", \"culmen_length_mm\": 49.5, \"culmen_depth_mm\": 19.0, \"flipper_length_mm\": 200.0, \"body_mass_g\": 3800.0, \"sex\": \"MALE\"}, {\"species\": \"Chinstrap\", \"island\": \"Dream\", \"culmen_length_mm\": 46.4, \"culmen_depth_mm\": 17.8, \"flipper_length_mm\": 191.0, \"body_mass_g\": 3700.0, \"sex\": \"FEMALE\"}, {\"species\": \"Chinstrap\", \"island\": \"Dream\", \"culmen_length_mm\": 52.8, \"culmen_depth_mm\": 20.0, \"flipper_length_mm\": 205.0, \"body_mass_g\": 4550.0, \"sex\": \"MALE\"}, {\"species\": \"Chinstrap\", \"island\": \"Dream\", \"culmen_length_mm\": 40.9, \"culmen_depth_mm\": 16.6, \"flipper_length_mm\": 187.0, \"body_mass_g\": 3200.0, \"sex\": \"FEMALE\"}, {\"species\": \"Chinstrap\", \"island\": \"Dream\", \"culmen_length_mm\": 54.2, \"culmen_depth_mm\": 20.8, \"flipper_length_mm\": 201.0, \"body_mass_g\": 4300.0, \"sex\": \"MALE\"}, {\"species\": \"Chinstrap\", \"island\": \"Dream\", \"culmen_length_mm\": 42.5, \"culmen_depth_mm\": 16.7, \"flipper_length_mm\": 187.0, \"body_mass_g\": 3350.0, \"sex\": \"FEMALE\"}, {\"species\": \"Chinstrap\", \"island\": \"Dream\", \"culmen_length_mm\": 51.0, \"culmen_depth_mm\": 18.8, \"flipper_length_mm\": 203.0, \"body_mass_g\": 4100.0, \"sex\": \"MALE\"}, {\"species\": \"Chinstrap\", \"island\": \"Dream\", \"culmen_length_mm\": 49.7, \"culmen_depth_mm\": 18.6, \"flipper_length_mm\": 195.0, \"body_mass_g\": 3600.0, \"sex\": \"MALE\"}, {\"species\": \"Chinstrap\", \"island\": \"Dream\", \"culmen_length_mm\": 47.5, \"culmen_depth_mm\": 16.8, \"flipper_length_mm\": 199.0, \"body_mass_g\": 3900.0, \"sex\": \"FEMALE\"}, {\"species\": \"Chinstrap\", \"island\": \"Dream\", \"culmen_length_mm\": 47.6, \"culmen_depth_mm\": 18.3, \"flipper_length_mm\": 195.0, \"body_mass_g\": 3850.0, \"sex\": \"FEMALE\"}, {\"species\": \"Chinstrap\", \"island\": \"Dream\", \"culmen_length_mm\": 52.0, \"culmen_depth_mm\": 20.7, \"flipper_length_mm\": 210.0, \"body_mass_g\": 4800.0, \"sex\": \"MALE\"}, {\"species\": \"Chinstrap\", \"island\": \"Dream\", \"culmen_length_mm\": 46.9, \"culmen_depth_mm\": 16.6, \"flipper_length_mm\": 192.0, \"body_mass_g\": 2700.0, \"sex\": \"FEMALE\"}, {\"species\": \"Chinstrap\", \"island\": \"Dream\", \"culmen_length_mm\": 53.5, \"culmen_depth_mm\": 19.9, \"flipper_length_mm\": 205.0, \"body_mass_g\": 4500.0, \"sex\": \"MALE\"}, {\"species\": \"Chinstrap\", \"island\": \"Dream\", \"culmen_length_mm\": 49.0, \"culmen_depth_mm\": 19.5, \"flipper_length_mm\": 210.0, \"body_mass_g\": 3950.0, \"sex\": \"MALE\"}, {\"species\": \"Chinstrap\", \"island\": \"Dream\", \"culmen_length_mm\": 46.2, \"culmen_depth_mm\": 17.5, \"flipper_length_mm\": 187.0, \"body_mass_g\": 3650.0, \"sex\": \"FEMALE\"}, {\"species\": \"Chinstrap\", \"island\": \"Dream\", \"culmen_length_mm\": 50.9, \"culmen_depth_mm\": 19.1, \"flipper_length_mm\": 196.0, \"body_mass_g\": 3550.0, \"sex\": \"MALE\"}, {\"species\": \"Chinstrap\", \"island\": \"Dream\", \"culmen_length_mm\": 45.5, \"culmen_depth_mm\": 17.0, \"flipper_length_mm\": 196.0, \"body_mass_g\": 3500.0, \"sex\": \"FEMALE\"}, {\"species\": \"Chinstrap\", \"island\": \"Dream\", \"culmen_length_mm\": 50.9, \"culmen_depth_mm\": 17.9, \"flipper_length_mm\": 196.0, \"body_mass_g\": 3675.0, \"sex\": \"FEMALE\"}, {\"species\": \"Chinstrap\", \"island\": \"Dream\", \"culmen_length_mm\": 50.8, \"culmen_depth_mm\": 18.5, \"flipper_length_mm\": 201.0, \"body_mass_g\": 4450.0, \"sex\": \"MALE\"}, {\"species\": \"Chinstrap\", \"island\": \"Dream\", \"culmen_length_mm\": 50.1, \"culmen_depth_mm\": 17.9, \"flipper_length_mm\": 190.0, \"body_mass_g\": 3400.0, \"sex\": \"FEMALE\"}, {\"species\": \"Chinstrap\", \"island\": \"Dream\", \"culmen_length_mm\": 49.0, \"culmen_depth_mm\": 19.6, \"flipper_length_mm\": 212.0, \"body_mass_g\": 4300.0, \"sex\": \"MALE\"}, {\"species\": \"Chinstrap\", \"island\": \"Dream\", \"culmen_length_mm\": 51.5, \"culmen_depth_mm\": 18.7, \"flipper_length_mm\": 187.0, \"body_mass_g\": 3250.0, \"sex\": \"MALE\"}, {\"species\": \"Chinstrap\", \"island\": \"Dream\", \"culmen_length_mm\": 49.8, \"culmen_depth_mm\": 17.3, \"flipper_length_mm\": 198.0, \"body_mass_g\": 3675.0, \"sex\": \"FEMALE\"}, {\"species\": \"Chinstrap\", \"island\": \"Dream\", \"culmen_length_mm\": 48.1, \"culmen_depth_mm\": 16.4, \"flipper_length_mm\": 199.0, \"body_mass_g\": 3325.0, \"sex\": \"FEMALE\"}, {\"species\": \"Chinstrap\", \"island\": \"Dream\", \"culmen_length_mm\": 51.4, \"culmen_depth_mm\": 19.0, \"flipper_length_mm\": 201.0, \"body_mass_g\": 3950.0, \"sex\": \"MALE\"}, {\"species\": \"Chinstrap\", \"island\": \"Dream\", \"culmen_length_mm\": 45.7, \"culmen_depth_mm\": 17.3, \"flipper_length_mm\": 193.0, \"body_mass_g\": 3600.0, \"sex\": \"FEMALE\"}, {\"species\": \"Chinstrap\", \"island\": \"Dream\", \"culmen_length_mm\": 50.7, \"culmen_depth_mm\": 19.7, \"flipper_length_mm\": 203.0, \"body_mass_g\": 4050.0, \"sex\": \"MALE\"}, {\"species\": \"Chinstrap\", \"island\": \"Dream\", \"culmen_length_mm\": 42.5, \"culmen_depth_mm\": 17.3, \"flipper_length_mm\": 187.0, \"body_mass_g\": 3350.0, \"sex\": \"FEMALE\"}, {\"species\": \"Chinstrap\", \"island\": \"Dream\", \"culmen_length_mm\": 52.2, \"culmen_depth_mm\": 18.8, \"flipper_length_mm\": 197.0, \"body_mass_g\": 3450.0, \"sex\": \"MALE\"}, {\"species\": \"Chinstrap\", \"island\": \"Dream\", \"culmen_length_mm\": 45.2, \"culmen_depth_mm\": 16.6, \"flipper_length_mm\": 191.0, \"body_mass_g\": 3250.0, \"sex\": \"FEMALE\"}, {\"species\": \"Chinstrap\", \"island\": \"Dream\", \"culmen_length_mm\": 49.3, \"culmen_depth_mm\": 19.9, \"flipper_length_mm\": 203.0, \"body_mass_g\": 4050.0, \"sex\": \"MALE\"}, {\"species\": \"Chinstrap\", \"island\": \"Dream\", \"culmen_length_mm\": 50.2, \"culmen_depth_mm\": 18.8, \"flipper_length_mm\": 202.0, \"body_mass_g\": 3800.0, \"sex\": \"MALE\"}, {\"species\": \"Chinstrap\", \"island\": \"Dream\", \"culmen_length_mm\": 45.6, \"culmen_depth_mm\": 19.4, \"flipper_length_mm\": 194.0, \"body_mass_g\": 3525.0, \"sex\": \"FEMALE\"}, {\"species\": \"Chinstrap\", \"island\": \"Dream\", \"culmen_length_mm\": 51.9, \"culmen_depth_mm\": 19.5, \"flipper_length_mm\": 206.0, \"body_mass_g\": 3950.0, \"sex\": \"MALE\"}, {\"species\": \"Chinstrap\", \"island\": \"Dream\", \"culmen_length_mm\": 46.8, \"culmen_depth_mm\": 16.5, \"flipper_length_mm\": 189.0, \"body_mass_g\": 3650.0, \"sex\": \"FEMALE\"}, {\"species\": \"Chinstrap\", \"island\": \"Dream\", \"culmen_length_mm\": 45.7, \"culmen_depth_mm\": 17.0, \"flipper_length_mm\": 195.0, \"body_mass_g\": 3650.0, \"sex\": \"FEMALE\"}, {\"species\": \"Chinstrap\", \"island\": \"Dream\", \"culmen_length_mm\": 55.8, \"culmen_depth_mm\": 19.8, \"flipper_length_mm\": 207.0, \"body_mass_g\": 4000.0, \"sex\": \"MALE\"}, {\"species\": \"Chinstrap\", \"island\": \"Dream\", \"culmen_length_mm\": 43.5, \"culmen_depth_mm\": 18.1, \"flipper_length_mm\": 202.0, \"body_mass_g\": 3400.0, \"sex\": \"FEMALE\"}, {\"species\": \"Chinstrap\", \"island\": \"Dream\", \"culmen_length_mm\": 49.6, \"culmen_depth_mm\": 18.2, \"flipper_length_mm\": 193.0, \"body_mass_g\": 3775.0, \"sex\": \"MALE\"}, {\"species\": \"Chinstrap\", \"island\": \"Dream\", \"culmen_length_mm\": 50.8, \"culmen_depth_mm\": 19.0, \"flipper_length_mm\": 210.0, \"body_mass_g\": 4100.0, \"sex\": \"MALE\"}, {\"species\": \"Chinstrap\", \"island\": \"Dream\", \"culmen_length_mm\": 50.2, \"culmen_depth_mm\": 18.7, \"flipper_length_mm\": 198.0, \"body_mass_g\": 3775.0, \"sex\": \"FEMALE\"}, {\"species\": \"Gentoo\", \"island\": \"Biscoe\", \"culmen_length_mm\": 46.1, \"culmen_depth_mm\": 13.2, \"flipper_length_mm\": 211.0, \"body_mass_g\": 4500.0, \"sex\": \"FEMALE\"}, {\"species\": \"Gentoo\", \"island\": \"Biscoe\", \"culmen_length_mm\": 50.0, \"culmen_depth_mm\": 16.3, \"flipper_length_mm\": 230.0, \"body_mass_g\": 5700.0, \"sex\": \"MALE\"}, {\"species\": \"Gentoo\", \"island\": \"Biscoe\", \"culmen_length_mm\": 48.7, \"culmen_depth_mm\": 14.1, \"flipper_length_mm\": 210.0, \"body_mass_g\": 4450.0, \"sex\": \"FEMALE\"}, {\"species\": \"Gentoo\", \"island\": \"Biscoe\", \"culmen_length_mm\": 50.0, \"culmen_depth_mm\": 15.2, \"flipper_length_mm\": 218.0, \"body_mass_g\": 5700.0, \"sex\": \"MALE\"}, {\"species\": \"Gentoo\", \"island\": \"Biscoe\", \"culmen_length_mm\": 47.6, \"culmen_depth_mm\": 14.5, \"flipper_length_mm\": 215.0, \"body_mass_g\": 5400.0, \"sex\": \"MALE\"}, {\"species\": \"Gentoo\", \"island\": \"Biscoe\", \"culmen_length_mm\": 46.5, \"culmen_depth_mm\": 13.5, \"flipper_length_mm\": 210.0, \"body_mass_g\": 4550.0, \"sex\": \"FEMALE\"}, {\"species\": \"Gentoo\", \"island\": \"Biscoe\", \"culmen_length_mm\": 45.4, \"culmen_depth_mm\": 14.6, \"flipper_length_mm\": 211.0, \"body_mass_g\": 4800.0, \"sex\": \"FEMALE\"}, {\"species\": \"Gentoo\", \"island\": \"Biscoe\", \"culmen_length_mm\": 46.7, \"culmen_depth_mm\": 15.3, \"flipper_length_mm\": 219.0, \"body_mass_g\": 5200.0, \"sex\": \"MALE\"}, {\"species\": \"Gentoo\", \"island\": \"Biscoe\", \"culmen_length_mm\": 43.3, \"culmen_depth_mm\": 13.4, \"flipper_length_mm\": 209.0, \"body_mass_g\": 4400.0, \"sex\": \"FEMALE\"}, {\"species\": \"Gentoo\", \"island\": \"Biscoe\", \"culmen_length_mm\": 46.8, \"culmen_depth_mm\": 15.4, \"flipper_length_mm\": 215.0, \"body_mass_g\": 5150.0, \"sex\": \"MALE\"}, {\"species\": \"Gentoo\", \"island\": \"Biscoe\", \"culmen_length_mm\": 40.9, \"culmen_depth_mm\": 13.7, \"flipper_length_mm\": 214.0, \"body_mass_g\": 4650.0, \"sex\": \"FEMALE\"}, {\"species\": \"Gentoo\", \"island\": \"Biscoe\", \"culmen_length_mm\": 49.0, \"culmen_depth_mm\": 16.1, \"flipper_length_mm\": 216.0, \"body_mass_g\": 5550.0, \"sex\": \"MALE\"}, {\"species\": \"Gentoo\", \"island\": \"Biscoe\", \"culmen_length_mm\": 45.5, \"culmen_depth_mm\": 13.7, \"flipper_length_mm\": 214.0, \"body_mass_g\": 4650.0, \"sex\": \"FEMALE\"}, {\"species\": \"Gentoo\", \"island\": \"Biscoe\", \"culmen_length_mm\": 48.4, \"culmen_depth_mm\": 14.6, \"flipper_length_mm\": 213.0, \"body_mass_g\": 5850.0, \"sex\": \"MALE\"}, {\"species\": \"Gentoo\", \"island\": \"Biscoe\", \"culmen_length_mm\": 45.8, \"culmen_depth_mm\": 14.6, \"flipper_length_mm\": 210.0, \"body_mass_g\": 4200.0, \"sex\": \"FEMALE\"}, {\"species\": \"Gentoo\", \"island\": \"Biscoe\", \"culmen_length_mm\": 49.3, \"culmen_depth_mm\": 15.7, \"flipper_length_mm\": 217.0, \"body_mass_g\": 5850.0, \"sex\": \"MALE\"}, {\"species\": \"Gentoo\", \"island\": \"Biscoe\", \"culmen_length_mm\": 42.0, \"culmen_depth_mm\": 13.5, \"flipper_length_mm\": 210.0, \"body_mass_g\": 4150.0, \"sex\": \"FEMALE\"}, {\"species\": \"Gentoo\", \"island\": \"Biscoe\", \"culmen_length_mm\": 49.2, \"culmen_depth_mm\": 15.2, \"flipper_length_mm\": 221.0, \"body_mass_g\": 6300.0, \"sex\": \"MALE\"}, {\"species\": \"Gentoo\", \"island\": \"Biscoe\", \"culmen_length_mm\": 46.2, \"culmen_depth_mm\": 14.5, \"flipper_length_mm\": 209.0, \"body_mass_g\": 4800.0, \"sex\": \"FEMALE\"}, {\"species\": \"Gentoo\", \"island\": \"Biscoe\", \"culmen_length_mm\": 48.7, \"culmen_depth_mm\": 15.1, \"flipper_length_mm\": 222.0, \"body_mass_g\": 5350.0, \"sex\": \"MALE\"}, {\"species\": \"Gentoo\", \"island\": \"Biscoe\", \"culmen_length_mm\": 50.2, \"culmen_depth_mm\": 14.3, \"flipper_length_mm\": 218.0, \"body_mass_g\": 5700.0, \"sex\": \"MALE\"}, {\"species\": \"Gentoo\", \"island\": \"Biscoe\", \"culmen_length_mm\": 45.1, \"culmen_depth_mm\": 14.5, \"flipper_length_mm\": 215.0, \"body_mass_g\": 5000.0, \"sex\": \"FEMALE\"}, {\"species\": \"Gentoo\", \"island\": \"Biscoe\", \"culmen_length_mm\": 46.5, \"culmen_depth_mm\": 14.5, \"flipper_length_mm\": 213.0, \"body_mass_g\": 4400.0, \"sex\": \"FEMALE\"}, {\"species\": \"Gentoo\", \"island\": \"Biscoe\", \"culmen_length_mm\": 46.3, \"culmen_depth_mm\": 15.8, \"flipper_length_mm\": 215.0, \"body_mass_g\": 5050.0, \"sex\": \"MALE\"}, {\"species\": \"Gentoo\", \"island\": \"Biscoe\", \"culmen_length_mm\": 42.9, \"culmen_depth_mm\": 13.1, \"flipper_length_mm\": 215.0, \"body_mass_g\": 5000.0, \"sex\": \"FEMALE\"}, {\"species\": \"Gentoo\", \"island\": \"Biscoe\", \"culmen_length_mm\": 46.1, \"culmen_depth_mm\": 15.1, \"flipper_length_mm\": 215.0, \"body_mass_g\": 5100.0, \"sex\": \"MALE\"}, {\"species\": \"Gentoo\", \"island\": \"Biscoe\", \"culmen_length_mm\": 47.8, \"culmen_depth_mm\": 15.0, \"flipper_length_mm\": 215.0, \"body_mass_g\": 5650.0, \"sex\": \"MALE\"}, {\"species\": \"Gentoo\", \"island\": \"Biscoe\", \"culmen_length_mm\": 48.2, \"culmen_depth_mm\": 14.3, \"flipper_length_mm\": 210.0, \"body_mass_g\": 4600.0, \"sex\": \"FEMALE\"}, {\"species\": \"Gentoo\", \"island\": \"Biscoe\", \"culmen_length_mm\": 50.0, \"culmen_depth_mm\": 15.3, \"flipper_length_mm\": 220.0, \"body_mass_g\": 5550.0, \"sex\": \"MALE\"}, {\"species\": \"Gentoo\", \"island\": \"Biscoe\", \"culmen_length_mm\": 47.3, \"culmen_depth_mm\": 15.3, \"flipper_length_mm\": 222.0, \"body_mass_g\": 5250.0, \"sex\": \"MALE\"}, {\"species\": \"Gentoo\", \"island\": \"Biscoe\", \"culmen_length_mm\": 42.8, \"culmen_depth_mm\": 14.2, \"flipper_length_mm\": 209.0, \"body_mass_g\": 4700.0, \"sex\": \"FEMALE\"}, {\"species\": \"Gentoo\", \"island\": \"Biscoe\", \"culmen_length_mm\": 45.1, \"culmen_depth_mm\": 14.5, \"flipper_length_mm\": 207.0, \"body_mass_g\": 5050.0, \"sex\": \"FEMALE\"}, {\"species\": \"Gentoo\", \"island\": \"Biscoe\", \"culmen_length_mm\": 59.6, \"culmen_depth_mm\": 17.0, \"flipper_length_mm\": 230.0, \"body_mass_g\": 6050.0, \"sex\": \"MALE\"}, {\"species\": \"Gentoo\", \"island\": \"Biscoe\", \"culmen_length_mm\": 49.1, \"culmen_depth_mm\": 14.8, \"flipper_length_mm\": 220.0, \"body_mass_g\": 5150.0, \"sex\": \"FEMALE\"}, {\"species\": \"Gentoo\", \"island\": \"Biscoe\", \"culmen_length_mm\": 48.4, \"culmen_depth_mm\": 16.3, \"flipper_length_mm\": 220.0, \"body_mass_g\": 5400.0, \"sex\": \"MALE\"}, {\"species\": \"Gentoo\", \"island\": \"Biscoe\", \"culmen_length_mm\": 42.6, \"culmen_depth_mm\": 13.7, \"flipper_length_mm\": 213.0, \"body_mass_g\": 4950.0, \"sex\": \"FEMALE\"}, {\"species\": \"Gentoo\", \"island\": \"Biscoe\", \"culmen_length_mm\": 44.4, \"culmen_depth_mm\": 17.3, \"flipper_length_mm\": 219.0, \"body_mass_g\": 5250.0, \"sex\": \"MALE\"}, {\"species\": \"Gentoo\", \"island\": \"Biscoe\", \"culmen_length_mm\": 44.0, \"culmen_depth_mm\": 13.6, \"flipper_length_mm\": 208.0, \"body_mass_g\": 4350.0, \"sex\": \"FEMALE\"}, {\"species\": \"Gentoo\", \"island\": \"Biscoe\", \"culmen_length_mm\": 48.7, \"culmen_depth_mm\": 15.7, \"flipper_length_mm\": 208.0, \"body_mass_g\": 5350.0, \"sex\": \"MALE\"}, {\"species\": \"Gentoo\", \"island\": \"Biscoe\", \"culmen_length_mm\": 42.7, \"culmen_depth_mm\": 13.7, \"flipper_length_mm\": 208.0, \"body_mass_g\": 3950.0, \"sex\": \"FEMALE\"}, {\"species\": \"Gentoo\", \"island\": \"Biscoe\", \"culmen_length_mm\": 49.6, \"culmen_depth_mm\": 16.0, \"flipper_length_mm\": 225.0, \"body_mass_g\": 5700.0, \"sex\": \"MALE\"}, {\"species\": \"Gentoo\", \"island\": \"Biscoe\", \"culmen_length_mm\": 45.3, \"culmen_depth_mm\": 13.7, \"flipper_length_mm\": 210.0, \"body_mass_g\": 4300.0, \"sex\": \"FEMALE\"}, {\"species\": \"Gentoo\", \"island\": \"Biscoe\", \"culmen_length_mm\": 49.6, \"culmen_depth_mm\": 15.0, \"flipper_length_mm\": 216.0, \"body_mass_g\": 4750.0, \"sex\": \"MALE\"}, {\"species\": \"Gentoo\", \"island\": \"Biscoe\", \"culmen_length_mm\": 50.5, \"culmen_depth_mm\": 15.9, \"flipper_length_mm\": 222.0, \"body_mass_g\": 5550.0, \"sex\": \"MALE\"}, {\"species\": \"Gentoo\", \"island\": \"Biscoe\", \"culmen_length_mm\": 43.6, \"culmen_depth_mm\": 13.9, \"flipper_length_mm\": 217.0, \"body_mass_g\": 4900.0, \"sex\": \"FEMALE\"}, {\"species\": \"Gentoo\", \"island\": \"Biscoe\", \"culmen_length_mm\": 45.5, \"culmen_depth_mm\": 13.9, \"flipper_length_mm\": 210.0, \"body_mass_g\": 4200.0, \"sex\": \"FEMALE\"}, {\"species\": \"Gentoo\", \"island\": \"Biscoe\", \"culmen_length_mm\": 50.5, \"culmen_depth_mm\": 15.9, \"flipper_length_mm\": 225.0, \"body_mass_g\": 5400.0, \"sex\": \"MALE\"}, {\"species\": \"Gentoo\", \"island\": \"Biscoe\", \"culmen_length_mm\": 44.9, \"culmen_depth_mm\": 13.3, \"flipper_length_mm\": 213.0, \"body_mass_g\": 5100.0, \"sex\": \"FEMALE\"}, {\"species\": \"Gentoo\", \"island\": \"Biscoe\", \"culmen_length_mm\": 45.2, \"culmen_depth_mm\": 15.8, \"flipper_length_mm\": 215.0, \"body_mass_g\": 5300.0, \"sex\": \"MALE\"}, {\"species\": \"Gentoo\", \"island\": \"Biscoe\", \"culmen_length_mm\": 46.6, \"culmen_depth_mm\": 14.2, \"flipper_length_mm\": 210.0, \"body_mass_g\": 4850.0, \"sex\": \"FEMALE\"}, {\"species\": \"Gentoo\", \"island\": \"Biscoe\", \"culmen_length_mm\": 48.5, \"culmen_depth_mm\": 14.1, \"flipper_length_mm\": 220.0, \"body_mass_g\": 5300.0, \"sex\": \"MALE\"}, {\"species\": \"Gentoo\", \"island\": \"Biscoe\", \"culmen_length_mm\": 45.1, \"culmen_depth_mm\": 14.4, \"flipper_length_mm\": 210.0, \"body_mass_g\": 4400.0, \"sex\": \"FEMALE\"}, {\"species\": \"Gentoo\", \"island\": \"Biscoe\", \"culmen_length_mm\": 50.1, \"culmen_depth_mm\": 15.0, \"flipper_length_mm\": 225.0, \"body_mass_g\": 5000.0, \"sex\": \"MALE\"}, {\"species\": \"Gentoo\", \"island\": \"Biscoe\", \"culmen_length_mm\": 46.5, \"culmen_depth_mm\": 14.4, \"flipper_length_mm\": 217.0, \"body_mass_g\": 4900.0, \"sex\": \"FEMALE\"}, {\"species\": \"Gentoo\", \"island\": \"Biscoe\", \"culmen_length_mm\": 45.0, \"culmen_depth_mm\": 15.4, \"flipper_length_mm\": 220.0, \"body_mass_g\": 5050.0, \"sex\": \"MALE\"}, {\"species\": \"Gentoo\", \"island\": \"Biscoe\", \"culmen_length_mm\": 43.8, \"culmen_depth_mm\": 13.9, \"flipper_length_mm\": 208.0, \"body_mass_g\": 4300.0, \"sex\": \"FEMALE\"}, {\"species\": \"Gentoo\", \"island\": \"Biscoe\", \"culmen_length_mm\": 45.5, \"culmen_depth_mm\": 15.0, \"flipper_length_mm\": 220.0, \"body_mass_g\": 5000.0, \"sex\": \"MALE\"}, {\"species\": \"Gentoo\", \"island\": \"Biscoe\", \"culmen_length_mm\": 43.2, \"culmen_depth_mm\": 14.5, \"flipper_length_mm\": 208.0, \"body_mass_g\": 4450.0, \"sex\": \"FEMALE\"}, {\"species\": \"Gentoo\", \"island\": \"Biscoe\", \"culmen_length_mm\": 50.4, \"culmen_depth_mm\": 15.3, \"flipper_length_mm\": 224.0, \"body_mass_g\": 5550.0, \"sex\": \"MALE\"}, {\"species\": \"Gentoo\", \"island\": \"Biscoe\", \"culmen_length_mm\": 45.3, \"culmen_depth_mm\": 13.8, \"flipper_length_mm\": 208.0, \"body_mass_g\": 4200.0, \"sex\": \"FEMALE\"}, {\"species\": \"Gentoo\", \"island\": \"Biscoe\", \"culmen_length_mm\": 46.2, \"culmen_depth_mm\": 14.9, \"flipper_length_mm\": 221.0, \"body_mass_g\": 5300.0, \"sex\": \"MALE\"}, {\"species\": \"Gentoo\", \"island\": \"Biscoe\", \"culmen_length_mm\": 45.7, \"culmen_depth_mm\": 13.9, \"flipper_length_mm\": 214.0, \"body_mass_g\": 4400.0, \"sex\": \"FEMALE\"}, {\"species\": \"Gentoo\", \"island\": \"Biscoe\", \"culmen_length_mm\": 54.3, \"culmen_depth_mm\": 15.7, \"flipper_length_mm\": 231.0, \"body_mass_g\": 5650.0, \"sex\": \"MALE\"}, {\"species\": \"Gentoo\", \"island\": \"Biscoe\", \"culmen_length_mm\": 45.8, \"culmen_depth_mm\": 14.2, \"flipper_length_mm\": 219.0, \"body_mass_g\": 4700.0, \"sex\": \"FEMALE\"}, {\"species\": \"Gentoo\", \"island\": \"Biscoe\", \"culmen_length_mm\": 49.8, \"culmen_depth_mm\": 16.8, \"flipper_length_mm\": 230.0, \"body_mass_g\": 5700.0, \"sex\": \"MALE\"}, {\"species\": \"Gentoo\", \"island\": \"Biscoe\", \"culmen_length_mm\": 49.5, \"culmen_depth_mm\": 16.2, \"flipper_length_mm\": 229.0, \"body_mass_g\": 5800.0, \"sex\": \"MALE\"}, {\"species\": \"Gentoo\", \"island\": \"Biscoe\", \"culmen_length_mm\": 43.5, \"culmen_depth_mm\": 14.2, \"flipper_length_mm\": 220.0, \"body_mass_g\": 4700.0, \"sex\": \"FEMALE\"}, {\"species\": \"Gentoo\", \"island\": \"Biscoe\", \"culmen_length_mm\": 50.7, \"culmen_depth_mm\": 15.0, \"flipper_length_mm\": 223.0, \"body_mass_g\": 5550.0, \"sex\": \"MALE\"}, {\"species\": \"Gentoo\", \"island\": \"Biscoe\", \"culmen_length_mm\": 47.7, \"culmen_depth_mm\": 15.0, \"flipper_length_mm\": 216.0, \"body_mass_g\": 4750.0, \"sex\": \"FEMALE\"}, {\"species\": \"Gentoo\", \"island\": \"Biscoe\", \"culmen_length_mm\": 46.4, \"culmen_depth_mm\": 15.6, \"flipper_length_mm\": 221.0, \"body_mass_g\": 5000.0, \"sex\": \"MALE\"}, {\"species\": \"Gentoo\", \"island\": \"Biscoe\", \"culmen_length_mm\": 48.2, \"culmen_depth_mm\": 15.6, \"flipper_length_mm\": 221.0, \"body_mass_g\": 5100.0, \"sex\": \"MALE\"}, {\"species\": \"Gentoo\", \"island\": \"Biscoe\", \"culmen_length_mm\": 46.5, \"culmen_depth_mm\": 14.8, \"flipper_length_mm\": 217.0, \"body_mass_g\": 5200.0, \"sex\": \"FEMALE\"}, {\"species\": \"Gentoo\", \"island\": \"Biscoe\", \"culmen_length_mm\": 46.4, \"culmen_depth_mm\": 15.0, \"flipper_length_mm\": 216.0, \"body_mass_g\": 4700.0, \"sex\": \"FEMALE\"}, {\"species\": \"Gentoo\", \"island\": \"Biscoe\", \"culmen_length_mm\": 48.6, \"culmen_depth_mm\": 16.0, \"flipper_length_mm\": 230.0, \"body_mass_g\": 5800.0, \"sex\": \"MALE\"}, {\"species\": \"Gentoo\", \"island\": \"Biscoe\", \"culmen_length_mm\": 47.5, \"culmen_depth_mm\": 14.2, \"flipper_length_mm\": 209.0, \"body_mass_g\": 4600.0, \"sex\": \"FEMALE\"}, {\"species\": \"Gentoo\", \"island\": \"Biscoe\", \"culmen_length_mm\": 51.1, \"culmen_depth_mm\": 16.3, \"flipper_length_mm\": 220.0, \"body_mass_g\": 6000.0, \"sex\": \"MALE\"}, {\"species\": \"Gentoo\", \"island\": \"Biscoe\", \"culmen_length_mm\": 45.2, \"culmen_depth_mm\": 13.8, \"flipper_length_mm\": 215.0, \"body_mass_g\": 4750.0, \"sex\": \"FEMALE\"}, {\"species\": \"Gentoo\", \"island\": \"Biscoe\", \"culmen_length_mm\": 45.2, \"culmen_depth_mm\": 16.4, \"flipper_length_mm\": 223.0, \"body_mass_g\": 5950.0, \"sex\": \"MALE\"}, {\"species\": \"Gentoo\", \"island\": \"Biscoe\", \"culmen_length_mm\": 49.1, \"culmen_depth_mm\": 14.5, \"flipper_length_mm\": 212.0, \"body_mass_g\": 4625.0, \"sex\": \"FEMALE\"}, {\"species\": \"Gentoo\", \"island\": \"Biscoe\", \"culmen_length_mm\": 52.5, \"culmen_depth_mm\": 15.6, \"flipper_length_mm\": 221.0, \"body_mass_g\": 5450.0, \"sex\": \"MALE\"}, {\"species\": \"Gentoo\", \"island\": \"Biscoe\", \"culmen_length_mm\": 47.4, \"culmen_depth_mm\": 14.6, \"flipper_length_mm\": 212.0, \"body_mass_g\": 4725.0, \"sex\": \"FEMALE\"}, {\"species\": \"Gentoo\", \"island\": \"Biscoe\", \"culmen_length_mm\": 50.0, \"culmen_depth_mm\": 15.9, \"flipper_length_mm\": 224.0, \"body_mass_g\": 5350.0, \"sex\": \"MALE\"}, {\"species\": \"Gentoo\", \"island\": \"Biscoe\", \"culmen_length_mm\": 44.9, \"culmen_depth_mm\": 13.8, \"flipper_length_mm\": 212.0, \"body_mass_g\": 4750.0, \"sex\": \"FEMALE\"}, {\"species\": \"Gentoo\", \"island\": \"Biscoe\", \"culmen_length_mm\": 50.8, \"culmen_depth_mm\": 17.3, \"flipper_length_mm\": 228.0, \"body_mass_g\": 5600.0, \"sex\": \"MALE\"}, {\"species\": \"Gentoo\", \"island\": \"Biscoe\", \"culmen_length_mm\": 43.4, \"culmen_depth_mm\": 14.4, \"flipper_length_mm\": 218.0, \"body_mass_g\": 4600.0, \"sex\": \"FEMALE\"}, {\"species\": \"Gentoo\", \"island\": \"Biscoe\", \"culmen_length_mm\": 51.3, \"culmen_depth_mm\": 14.2, \"flipper_length_mm\": 218.0, \"body_mass_g\": 5300.0, \"sex\": \"MALE\"}, {\"species\": \"Gentoo\", \"island\": \"Biscoe\", \"culmen_length_mm\": 47.5, \"culmen_depth_mm\": 14.0, \"flipper_length_mm\": 212.0, \"body_mass_g\": 4875.0, \"sex\": \"FEMALE\"}, {\"species\": \"Gentoo\", \"island\": \"Biscoe\", \"culmen_length_mm\": 52.1, \"culmen_depth_mm\": 17.0, \"flipper_length_mm\": 230.0, \"body_mass_g\": 5550.0, \"sex\": \"MALE\"}, {\"species\": \"Gentoo\", \"island\": \"Biscoe\", \"culmen_length_mm\": 47.5, \"culmen_depth_mm\": 15.0, \"flipper_length_mm\": 218.0, \"body_mass_g\": 4950.0, \"sex\": \"FEMALE\"}, {\"species\": \"Gentoo\", \"island\": \"Biscoe\", \"culmen_length_mm\": 52.2, \"culmen_depth_mm\": 17.1, \"flipper_length_mm\": 228.0, \"body_mass_g\": 5400.0, \"sex\": \"MALE\"}, {\"species\": \"Gentoo\", \"island\": \"Biscoe\", \"culmen_length_mm\": 45.5, \"culmen_depth_mm\": 14.5, \"flipper_length_mm\": 212.0, \"body_mass_g\": 4750.0, \"sex\": \"FEMALE\"}, {\"species\": \"Gentoo\", \"island\": \"Biscoe\", \"culmen_length_mm\": 49.5, \"culmen_depth_mm\": 16.1, \"flipper_length_mm\": 224.0, \"body_mass_g\": 5650.0, \"sex\": \"MALE\"}, {\"species\": \"Gentoo\", \"island\": \"Biscoe\", \"culmen_length_mm\": 44.5, \"culmen_depth_mm\": 14.7, \"flipper_length_mm\": 214.0, \"body_mass_g\": 4850.0, \"sex\": \"FEMALE\"}, {\"species\": \"Gentoo\", \"island\": \"Biscoe\", \"culmen_length_mm\": 50.8, \"culmen_depth_mm\": 15.7, \"flipper_length_mm\": 226.0, \"body_mass_g\": 5200.0, \"sex\": \"MALE\"}, {\"species\": \"Gentoo\", \"island\": \"Biscoe\", \"culmen_length_mm\": 49.4, \"culmen_depth_mm\": 15.8, \"flipper_length_mm\": 216.0, \"body_mass_g\": 4925.0, \"sex\": \"MALE\"}, {\"species\": \"Gentoo\", \"island\": \"Biscoe\", \"culmen_length_mm\": 46.9, \"culmen_depth_mm\": 14.6, \"flipper_length_mm\": 222.0, \"body_mass_g\": 4875.0, \"sex\": \"FEMALE\"}, {\"species\": \"Gentoo\", \"island\": \"Biscoe\", \"culmen_length_mm\": 48.4, \"culmen_depth_mm\": 14.4, \"flipper_length_mm\": 203.0, \"body_mass_g\": 4625.0, \"sex\": \"FEMALE\"}, {\"species\": \"Gentoo\", \"island\": \"Biscoe\", \"culmen_length_mm\": 51.1, \"culmen_depth_mm\": 16.5, \"flipper_length_mm\": 225.0, \"body_mass_g\": 5250.0, \"sex\": \"MALE\"}, {\"species\": \"Gentoo\", \"island\": \"Biscoe\", \"culmen_length_mm\": 48.5, \"culmen_depth_mm\": 15.0, \"flipper_length_mm\": 219.0, \"body_mass_g\": 4850.0, \"sex\": \"FEMALE\"}, {\"species\": \"Gentoo\", \"island\": \"Biscoe\", \"culmen_length_mm\": 55.9, \"culmen_depth_mm\": 17.0, \"flipper_length_mm\": 228.0, \"body_mass_g\": 5600.0, \"sex\": \"MALE\"}, {\"species\": \"Gentoo\", \"island\": \"Biscoe\", \"culmen_length_mm\": 47.2, \"culmen_depth_mm\": 15.5, \"flipper_length_mm\": 215.0, \"body_mass_g\": 4975.0, \"sex\": \"FEMALE\"}, {\"species\": \"Gentoo\", \"island\": \"Biscoe\", \"culmen_length_mm\": 49.1, \"culmen_depth_mm\": 15.0, \"flipper_length_mm\": 228.0, \"body_mass_g\": 5500.0, \"sex\": \"MALE\"}, {\"species\": \"Gentoo\", \"island\": \"Biscoe\", \"culmen_length_mm\": 46.8, \"culmen_depth_mm\": 16.1, \"flipper_length_mm\": 215.0, \"body_mass_g\": 5500.0, \"sex\": \"MALE\"}, {\"species\": \"Gentoo\", \"island\": \"Biscoe\", \"culmen_length_mm\": 41.7, \"culmen_depth_mm\": 14.7, \"flipper_length_mm\": 210.0, \"body_mass_g\": 4700.0, \"sex\": \"FEMALE\"}, {\"species\": \"Gentoo\", \"island\": \"Biscoe\", \"culmen_length_mm\": 53.4, \"culmen_depth_mm\": 15.8, \"flipper_length_mm\": 219.0, \"body_mass_g\": 5500.0, \"sex\": \"MALE\"}, {\"species\": \"Gentoo\", \"island\": \"Biscoe\", \"culmen_length_mm\": 43.3, \"culmen_depth_mm\": 14.0, \"flipper_length_mm\": 208.0, \"body_mass_g\": 4575.0, \"sex\": \"FEMALE\"}, {\"species\": \"Gentoo\", \"island\": \"Biscoe\", \"culmen_length_mm\": 48.1, \"culmen_depth_mm\": 15.1, \"flipper_length_mm\": 209.0, \"body_mass_g\": 5500.0, \"sex\": \"MALE\"}, {\"species\": \"Gentoo\", \"island\": \"Biscoe\", \"culmen_length_mm\": 50.5, \"culmen_depth_mm\": 15.2, \"flipper_length_mm\": 216.0, \"body_mass_g\": 5000.0, \"sex\": \"FEMALE\"}, {\"species\": \"Gentoo\", \"island\": \"Biscoe\", \"culmen_length_mm\": 49.8, \"culmen_depth_mm\": 15.9, \"flipper_length_mm\": 229.0, \"body_mass_g\": 5950.0, \"sex\": \"MALE\"}, {\"species\": \"Gentoo\", \"island\": \"Biscoe\", \"culmen_length_mm\": 43.5, \"culmen_depth_mm\": 15.2, \"flipper_length_mm\": 213.0, \"body_mass_g\": 4650.0, \"sex\": \"FEMALE\"}, {\"species\": \"Gentoo\", \"island\": \"Biscoe\", \"culmen_length_mm\": 51.5, \"culmen_depth_mm\": 16.3, \"flipper_length_mm\": 230.0, \"body_mass_g\": 5500.0, \"sex\": \"MALE\"}, {\"species\": \"Gentoo\", \"island\": \"Biscoe\", \"culmen_length_mm\": 46.2, \"culmen_depth_mm\": 14.1, \"flipper_length_mm\": 217.0, \"body_mass_g\": 4375.0, \"sex\": \"FEMALE\"}, {\"species\": \"Gentoo\", \"island\": \"Biscoe\", \"culmen_length_mm\": 55.1, \"culmen_depth_mm\": 16.0, \"flipper_length_mm\": 230.0, \"body_mass_g\": 5850.0, \"sex\": \"MALE\"}, {\"species\": \"Gentoo\", \"island\": \"Biscoe\", \"culmen_length_mm\": 44.5, \"culmen_depth_mm\": 15.7, \"flipper_length_mm\": 217.0, \"body_mass_g\": 4875.0, \"sex\": \".\"}, {\"species\": \"Gentoo\", \"island\": \"Biscoe\", \"culmen_length_mm\": 48.8, \"culmen_depth_mm\": 16.2, \"flipper_length_mm\": 222.0, \"body_mass_g\": 6000.0, \"sex\": \"MALE\"}, {\"species\": \"Gentoo\", \"island\": \"Biscoe\", \"culmen_length_mm\": 47.2, \"culmen_depth_mm\": 13.7, \"flipper_length_mm\": 214.0, \"body_mass_g\": 4925.0, \"sex\": \"FEMALE\"}, {\"species\": \"Gentoo\", \"island\": \"Biscoe\", \"culmen_length_mm\": 46.8, \"culmen_depth_mm\": 14.3, \"flipper_length_mm\": 215.0, \"body_mass_g\": 4850.0, \"sex\": \"FEMALE\"}, {\"species\": \"Gentoo\", \"island\": \"Biscoe\", \"culmen_length_mm\": 50.4, \"culmen_depth_mm\": 15.7, \"flipper_length_mm\": 222.0, \"body_mass_g\": 5750.0, \"sex\": \"MALE\"}, {\"species\": \"Gentoo\", \"island\": \"Biscoe\", \"culmen_length_mm\": 45.2, \"culmen_depth_mm\": 14.8, \"flipper_length_mm\": 212.0, \"body_mass_g\": 5200.0, \"sex\": \"FEMALE\"}, {\"species\": \"Gentoo\", \"island\": \"Biscoe\", \"culmen_length_mm\": 49.9, \"culmen_depth_mm\": 16.1, \"flipper_length_mm\": 213.0, \"body_mass_g\": 5400.0, \"sex\": \"MALE\"}]}}, {\"mode\": \"vega-lite\"});\n",
       "</script>"
      ],
      "text/plain": [
       "alt.HConcatChart(...)"
      ]
     },
     "execution_count": 4,
     "metadata": {},
     "output_type": "execute_result"
    }
   ],
   "source": [
    "# just run this cell, you will learn about this if you take PSTAT 100!\n",
    "source = pd.read_csv('data/penguin.csv')\n",
    "\n",
    "chart1 = alt.Chart(source).mark_circle(size=60).encode(\n",
    "    x= alt.X('culmen_length_mm', scale=alt.Scale(domain=(25, 65))),\n",
    "    y= alt.Y('culmen_depth_mm', scale=alt.Scale(domain=(12, 22))),\n",
    "    color='species'\n",
    ").properties(width=300,height=300).interactive()\n",
    "\n",
    "chart2 = alt.Chart(source).mark_circle(size=60).encode(\n",
    "    x= alt.X('flipper_length_mm', scale=alt.Scale(domain=(165, 235))),\n",
    "    y= alt.Y('culmen_depth_mm', scale=alt.Scale(domain=(12, 22))),\n",
    "    color='species'\n",
    ").properties(width=300,height=300).interactive()\n",
    "\n",
    "chart3 = alt.Chart(source).mark_circle(size=60).encode(\n",
    "    x= alt.X('body_mass_g', scale=alt.Scale(domain=(2500, 6500))),\n",
    "    y= alt.Y('flipper_length_mm', scale=alt.Scale(domain=(165, 235))),\n",
    "    color='species'\n",
    ").properties(width=300,height=300).interactive()\n",
    "\n",
    "chart4 = alt.Chart(source).mark_circle(size=60).encode(\n",
    "    x= alt.X('body_mass_g', scale=alt.Scale(domain=(2500, 6500))),\n",
    "    y= alt.Y('culmen_depth_mm', scale=alt.Scale(domain=(12, 22))),\n",
    "    color='species'\n",
    ").properties(width=300,height=300).interactive()\n",
    "\n",
    "(chart1 & chart3) | (chart2 & chart4)"
   ]
  },
  {
   "cell_type": "markdown",
   "id": "142367f9-c121-420c-982b-90493c0c78c0",
   "metadata": {
    "deletable": false,
    "editable": false,
    "hideCode": false,
    "hidePrompt": false
   },
   "source": [
    "A goal of this project is to introduce you to the concept of classifying two things based on their features. In this case, from our visualizations we can see that between the three penguins, it looks like the Adelie penguins and the Gentoo penguins are most different from each other. The Chinstrap penguin shares some characteristics with the other two, so it might be hard to identify this type of penguin based on the data we have. Thus, it’s best to focus on the two most different penguin species: Adelie and Gentoo. Sucks to be a chinstrap I guess.\n",
    "\n",
    "**Question 1.0:** In the cell below, filter out our `penguins` table to only contain rows of Adelie penguins and Gentoo penguins. Store this new table as `cool_penguins`.\n",
    "\n",
    "*HINT: If you are stuck, I think the midterm might tell you how to do this somewhere...*"
   ]
  },
  {
   "cell_type": "code",
   "execution_count": 5,
   "id": "a3691122",
   "metadata": {
    "hideCode": false,
    "hidePrompt": false,
    "tags": []
   },
   "outputs": [
    {
     "data": {
      "text/html": [
       "<table border=\"1\" class=\"dataframe\">\n",
       "    <thead>\n",
       "        <tr>\n",
       "            <th>species</th> <th>island</th> <th>culmen_length_mm</th> <th>culmen_depth_mm</th> <th>flipper_length_mm</th> <th>body_mass_g</th> <th>sex</th>\n",
       "        </tr>\n",
       "    </thead>\n",
       "    <tbody>\n",
       "        <tr>\n",
       "            <td>Adelie </td> <td>Torgersen</td> <td>39.1            </td> <td>18.7           </td> <td>181              </td> <td>3750       </td> <td>MALE  </td>\n",
       "        </tr>\n",
       "        <tr>\n",
       "            <td>Adelie </td> <td>Torgersen</td> <td>39.5            </td> <td>17.4           </td> <td>186              </td> <td>3800       </td> <td>FEMALE</td>\n",
       "        </tr>\n",
       "        <tr>\n",
       "            <td>Adelie </td> <td>Torgersen</td> <td>40.3            </td> <td>18             </td> <td>195              </td> <td>3250       </td> <td>FEMALE</td>\n",
       "        </tr>\n",
       "        <tr>\n",
       "            <td>Adelie </td> <td>Torgersen</td> <td>36.7            </td> <td>19.3           </td> <td>193              </td> <td>3450       </td> <td>FEMALE</td>\n",
       "        </tr>\n",
       "        <tr>\n",
       "            <td>Adelie </td> <td>Torgersen</td> <td>39.3            </td> <td>20.6           </td> <td>190              </td> <td>3650       </td> <td>MALE  </td>\n",
       "        </tr>\n",
       "    </tbody>\n",
       "</table>\n",
       "<p>... (261 rows omitted)</p>"
      ],
      "text/plain": [
       "<IPython.core.display.HTML object>"
      ]
     },
     "metadata": {},
     "output_type": "display_data"
    }
   ],
   "source": [
    "cool_penguins = penguins.where(\"species\", are.equal_to(\"Adelie\") | are.equal_to(\"Gentoo\"))\n",
    "cool_penguins.show(5)"
   ]
  },
  {
   "cell_type": "code",
   "execution_count": 6,
   "id": "59bc6ec8",
   "metadata": {
    "deletable": false,
    "editable": false
   },
   "outputs": [
    {
     "data": {
      "text/html": [
       "<p><strong><pre style='display: inline;'>q1_0</pre></strong> passed! 🎉</p>"
      ],
      "text/plain": [
       "q1_0 results: All test cases passed!"
      ]
     },
     "execution_count": 6,
     "metadata": {},
     "output_type": "execute_result"
    }
   ],
   "source": [
    "grader.check(\"q1_0\")"
   ]
  },
  {
   "cell_type": "markdown",
   "id": "4687919d",
   "metadata": {
    "hideCode": false,
    "hidePrompt": false
   },
   "source": [
    "# PART 1: Penguin Correlation & Linear Regression"
   ]
  },
  {
   "cell_type": "markdown",
   "id": "e9277efe-b211-4648-a968-57e6e0f23836",
   "metadata": {
    "hideCode": false,
    "hidePrompt": false
   },
   "source": [
    "Let’s find out which two variables are most correlated with each other! Below we’ve given you a function that will take in an array of numbers and convert it into standard units. This function will be useful for calculating the correlation between two arrays.\n",
    "\n",
    "**Question 1.1.1:** Define a function `penguin_corr` which takes in three arguments:\n",
    "- `tbl`: The table we are using (in this case, cool_penguins)\n",
    "- `col1` , `col2`: The string of which column we want within our table (eg. `culmen_length_mm`)\n",
    "\n",
    "The function should return the correlation between the two columns in our array"
   ]
  },
  {
   "cell_type": "code",
   "execution_count": 7,
   "id": "c9da6d5f",
   "metadata": {
    "hideCode": false,
    "hidePrompt": false,
    "tags": []
   },
   "outputs": [],
   "source": [
    "def standard_units(arr):\n",
    "    return (arr - np.mean(arr)) / np.std(arr)\n",
    "\n",
    "def penguin_corr(tbl, col1, col2):\n",
    "    return np.mean(standard_units(tbl.column(col1)) * standard_units(tbl.column(col2)))"
   ]
  },
  {
   "cell_type": "code",
   "execution_count": 8,
   "id": "92fd1297",
   "metadata": {
    "deletable": false,
    "editable": false
   },
   "outputs": [
    {
     "data": {
      "text/html": [
       "<p><strong><pre style='display: inline;'>q1_1_1</pre></strong> passed! 🌟</p>"
      ],
      "text/plain": [
       "q1_1_1 results: All test cases passed!"
      ]
     },
     "execution_count": 8,
     "metadata": {},
     "output_type": "execute_result"
    }
   ],
   "source": [
    "grader.check(\"q1_1_1\")"
   ]
  },
  {
   "cell_type": "markdown",
   "id": "f2b4742a-f774-4fc0-9811-4eeca83fff8c",
   "metadata": {
    "deletable": false,
    "editable": false,
    "hideCode": false,
    "hidePrompt": false
   },
   "source": [
    "Nice! Let’s see this `penguin_corr` function in action. \n",
    "\n",
    "**Question 1.1.2:** First, produce a scatter plot with `body_mass_g` on the x axis and `culmen_depth_mm` on the y axis. If produced correctly, you should see two scatter groups: The Adelie penguins on the top and Gentoo penguins on the bottom.\n",
    "\n",
    "Then, assign `beak_and_body` with the correlation coefficient r between the two variables. (This is when you use the `penguin_corr` function)"
   ]
  },
  {
   "cell_type": "code",
   "execution_count": 9,
   "id": "fd1fc24c",
   "metadata": {
    "hideCode": false,
    "hidePrompt": false,
    "tags": []
   },
   "outputs": [
    {
     "name": "stdout",
     "output_type": "stream",
     "text": [
      "-0.483941346244\n"
     ]
    },
    {
     "data": {
      "image/png": "[encoded data removed]",
      "text/plain": [
       "<Figure size 500x500 with 1 Axes>"
      ]
     },
     "metadata": {},
     "output_type": "display_data"
    }
   ],
   "source": [
    "# Produce plot here\n",
    "cool_penguins.scatter(\"body_mass_g\", \"culmen_depth_mm\")\n",
    "\n",
    "# Calculate r here\n",
    "beak_and_body = penguin_corr(cool_penguins,\"body_mass_g\", \"culmen_depth_mm\")\n",
    "\n",
    "print(beak_and_body)"
   ]
  },
  {
   "cell_type": "code",
   "execution_count": 10,
   "id": "6f1d22f9",
   "metadata": {
    "deletable": false,
    "editable": false
   },
   "outputs": [
    {
     "data": {
      "text/html": [
       "<p><strong><pre style='display: inline;'>q1_1_2</pre></strong> passed! 🎉</p>"
      ],
      "text/plain": [
       "q1_1_2 results: All test cases passed!"
      ]
     },
     "execution_count": 10,
     "metadata": {},
     "output_type": "execute_result"
    }
   ],
   "source": [
    "grader.check(\"q1_1_2\")"
   ]
  },
  {
   "cell_type": "markdown",
   "id": "c093b761-628d-452c-ba5b-82fa53b5de8a",
   "metadata": {
    "deletable": false,
    "editable": false,
    "hideCode": false,
    "hidePrompt": false
   },
   "source": [
    "Wait…that’s weird. Why is the correlation NEGATIVE? That can’t be right…right?\n",
    "\n",
    "You see, what is happening here is a statistical phenomenon called Simpson’s Paradox.This happens when groups of data exhibit some sort of trend (eg. larger Adelie penguins have larger beaks, same for Gentoo), but when combined exhibit the opposite trend. We have the Gentoo penguins, which are typically larger in size but have smaller beaks mixed in with Adelie penguins which are typically smaller in size and have bigger beaks. They both seem to express the notion that the bigger the penguin, the bigger the beaks, but combining the two penguins together confuses Python since it just assumes that all these penguins are the same.\n",
    "\n",
    "You’re not expected to fully understand what Simpson’s Paradox is or why it happens. We just wanted to show you something cool.\n",
    "\n",
    "Thankfully, there is a way to get around Simpson’s Paradox: Calculating the correlation separately for each penguin!\n",
    "\n",
    "**Question 1.1.3:** In the cell below, compute the correlation between the same two variables (culmen depth and body mass) but for each penguin species! Assign the correlation for the Adelie penguins to `Adele` and the correlation for Gentoo penguins to `Gen2`."
   ]
  },
  {
   "cell_type": "code",
   "execution_count": 11,
   "id": "5b257065",
   "metadata": {
    "hideCode": false,
    "hidePrompt": false,
    "tags": []
   },
   "outputs": [
    {
     "name": "stdout",
     "output_type": "stream",
     "text": [
      "Adelie Correlation is 0.5801560058681454, Gentoo Correlation is 0.7182652211738181\n"
     ]
    }
   ],
   "source": [
    "Adele = penguin_corr(cool_penguins.where(\"species\", are.equal_to(\"Adelie\")), \"body_mass_g\", \"culmen_depth_mm\")\n",
    "Gen2 = penguin_corr(cool_penguins.where(\"species\", are.equal_to(\"Gentoo\")), \"body_mass_g\", \"culmen_depth_mm\")\n",
    "\n",
    "print('Adelie Correlation is {0}, Gentoo Correlation is {1}'.format(Adele, Gen2))"
   ]
  },
  {
   "cell_type": "code",
   "execution_count": 12,
   "id": "70be8cb3",
   "metadata": {
    "deletable": false,
    "editable": false
   },
   "outputs": [
    {
     "data": {
      "text/html": [
       "<p><strong><pre style='display: inline;'>q1_1_3</pre></strong> passed! ✨</p>"
      ],
      "text/plain": [
       "q1_1_3 results: All test cases passed!"
      ]
     },
     "execution_count": 12,
     "metadata": {},
     "output_type": "execute_result"
    }
   ],
   "source": [
    "grader.check(\"q1_1_3\")"
   ]
  },
  {
   "cell_type": "markdown",
   "id": "9c0146b2-2442-4235-ba69-34710ba0bdf3",
   "metadata": {
    "deletable": false,
    "editable": false,
    "hideCode": false,
    "hidePrompt": false
   },
   "source": [
    "<!-- BEGIN QUESTION -->\n",
    "\n",
    "WooHoo! We’re not insane! In general, a bigger penguin correlates to a bigger beak size. \n",
    "\n",
    "**Question 1.1.4:** Thus, can we conclude that being bigger *causes* the penguin to have a bigger beak? Explain your reasoning. "
   ]
  },
  {
   "cell_type": "markdown",
   "id": "32bfee3b",
   "metadata": {},
   "source": [
    "Yes, we can conclude that being bigger causes the penguin to have a bigger beak. As seen by the graph and the calculated correlation r = 0.5 > 0, there is a positive correlation between size and beak size."
   ]
  },
  {
   "cell_type": "markdown",
   "id": "3dcde727-5b3d-43f0-a1cc-c0dca1b0dce4",
   "metadata": {
    "deletable": false,
    "editable": false,
    "hideCode": false,
    "hidePrompt": false
   },
   "source": [
    "<!-- END QUESTION -->\n",
    "\n",
    "\n",
    "Let’s start working on some good old linear regression. \n",
    "\n",
    "**Question 1.2.1:** First, produce a scatter plot with `body_mass_g` on the x axis and `flipper_length_mm` on the y axis. \n",
    "\n",
    "Then, assign `pengu` with the correlation coefficient r between the two variables."
   ]
  },
  {
   "cell_type": "code",
   "execution_count": 13,
   "id": "01fe779c",
   "metadata": {
    "hideCode": false,
    "hidePrompt": false,
    "tags": []
   },
   "outputs": [
    {
     "name": "stdout",
     "output_type": "stream",
     "text": [
      "0.884524681236\n"
     ]
    },
    {
     "data": {
      "image/png": "[encoded data removed]",
      "text/plain": [
       "<Figure size 500x500 with 1 Axes>"
      ]
     },
     "metadata": {},
     "output_type": "display_data"
    }
   ],
   "source": [
    "# Produce plot here\n",
    "cool_penguins.scatter(\"body_mass_g\", \"flipper_length_mm\")\n",
    "\n",
    "# Calculate r here\n",
    "pengu = penguin_corr(cool_penguins,\"body_mass_g\", \"flipper_length_mm\")\n",
    "\n",
    "print(pengu)"
   ]
  },
  {
   "cell_type": "code",
   "execution_count": 14,
   "id": "161d95d3",
   "metadata": {
    "deletable": false,
    "editable": false
   },
   "outputs": [
    {
     "data": {
      "text/html": [
       "<p><strong><pre style='display: inline;'>q1_2_1</pre></strong> passed! 🚀</p>"
      ],
      "text/plain": [
       "q1_2_1 results: All test cases passed!"
      ]
     },
     "execution_count": 14,
     "metadata": {},
     "output_type": "execute_result"
    }
   ],
   "source": [
    "grader.check(\"q1_2_1\")"
   ]
  },
  {
   "cell_type": "markdown",
   "id": "a3c4d6db-da61-44cc-87f1-21a2daa10fb3",
   "metadata": {
    "deletable": false,
    "editable": false,
    "hideCode": false,
    "hidePrompt": false
   },
   "source": [
    "Our scatterplot has a nice singular pattern. While it would be better to separate our dataset into Adelie penguins and Gentoo penguins, for the sake of simplicity, we can keep them combined for this example. \n",
    "\n",
    "**Question 1.2.2:** Let’s create a simple linear regression model in which we are trying to predict a penguin’s `body_mass_g` based on its `flipper_length_mm`\n",
    "\n",
    "Assign to the variables `slope` and `intercept` the values of the slope and intercept respectively  using`body_mass_g` as our X variable and `flipper_length_mm` as our Y variable."
   ]
  },
  {
   "cell_type": "code",
   "execution_count": 17,
   "id": "5bc5dc76",
   "metadata": {
    "hideCode": false,
    "hidePrompt": false,
    "tags": []
   },
   "outputs": [
    {
     "name": "stdout",
     "output_type": "stream",
     "text": [
      "slope:  49.4061806092\n",
      "intercept:  -5666.21751476\n"
     ]
    }
   ],
   "source": [
    "# define slope and intercept here\n",
    "slope = pengu * np.std(cool_penguins.column(\"body_mass_g\")) /  np.std(cool_penguins.column(\"flipper_length_mm\"))\n",
    "intercept = np.mean(cool_penguins.column(\"body_mass_g\")) - slope * np.mean(cool_penguins.column(\"flipper_length_mm\"))\n",
    "\n",
    "\n",
    "print('slope: ', slope)\n",
    "print('intercept: ', intercept)"
   ]
  },
  {
   "cell_type": "code",
   "execution_count": 18,
   "id": "211c0e44",
   "metadata": {
    "deletable": false,
    "editable": false
   },
   "outputs": [
    {
     "data": {
      "text/html": [
       "<p><strong><pre style='display: inline;'>q1_2_2</pre></strong> passed! 🙌</p>"
      ],
      "text/plain": [
       "q1_2_2 results: All test cases passed!"
      ]
     },
     "execution_count": 18,
     "metadata": {},
     "output_type": "execute_result"
    }
   ],
   "source": [
    "grader.check(\"q1_2_2\")"
   ]
  },
  {
   "cell_type": "markdown",
   "id": "c5f32dbc-974a-4657-8b77-f2e416a9bdb6",
   "metadata": {
    "deletable": false,
    "editable": false,
    "hideCode": false,
    "hidePrompt": false
   },
   "source": [
    "\n",
    "**Question 1.2.3:** Finally, create a table with three columns.\n",
    "The first column should be your X, also known as the `flipper_length_mm` column from your `cool_penguins` table.\n",
    "The second column should be your Y, also known as the `body_mass_g` column from your `cool_penguins` table.\n",
    "The third column will be something you create. It should be called `predicted_body_mass_g`. Using the slope and intercept that you have calculated, compute the estimated body mass using the `flipper_length_mm` as the predictor variable.\n",
    "\n",
    "*HINT 1: Look at Q3.1 of Lab4 to see how you computed the regression line*\n",
    "\n",
    "*HINT 2: What you produced in that question (predicted_rnaseq) is an array of predicted numbers. How do you add an array of numbers to a table as a column?*"
   ]
  },
  {
   "cell_type": "code",
   "execution_count": 20,
   "id": "594903e2",
   "metadata": {
    "hideCode": false,
    "hidePrompt": false,
    "scrolled": true,
    "tags": []
   },
   "outputs": [
    {
     "data": {
      "text/html": [
       "<table border=\"1\" class=\"dataframe\">\n",
       "    <thead>\n",
       "        <tr>\n",
       "            <th>flipper_length_mm</th> <th>body_mass_g</th> <th>predicted_body_mass_g</th>\n",
       "        </tr>\n",
       "    </thead>\n",
       "    <tbody>\n",
       "        <tr>\n",
       "            <td>181              </td> <td>3750       </td> <td>3276.3               </td>\n",
       "        </tr>\n",
       "        <tr>\n",
       "            <td>186              </td> <td>3800       </td> <td>3523.33              </td>\n",
       "        </tr>\n",
       "        <tr>\n",
       "            <td>195              </td> <td>3250       </td> <td>3967.99              </td>\n",
       "        </tr>\n",
       "        <tr>\n",
       "            <td>193              </td> <td>3450       </td> <td>3869.18              </td>\n",
       "        </tr>\n",
       "        <tr>\n",
       "            <td>190              </td> <td>3650       </td> <td>3720.96              </td>\n",
       "        </tr>\n",
       "    </tbody>\n",
       "</table>\n",
       "<p>... (261 rows omitted)</p>"
      ],
      "text/plain": [
       "<IPython.core.display.HTML object>"
      ]
     },
     "metadata": {},
     "output_type": "display_data"
    }
   ],
   "source": [
    "# While it's possible to do this in one line, breaking this problem into steps might be more helpful!\n",
    "prediction = cool_penguins.select(\"flipper_length_mm\", \"body_mass_g\")\n",
    "prediction = prediction.with_column(\"predicted_body_mass_g\", slope * cool_penguins.column(\"flipper_length_mm\") + intercept)\n",
    "\n",
    "prediction.show(5)"
   ]
  },
  {
   "cell_type": "code",
   "execution_count": 21,
   "id": "6e243265",
   "metadata": {
    "deletable": false,
    "editable": false
   },
   "outputs": [
    {
     "data": {
      "text/html": [
       "<p><strong><pre style='display: inline;'>q1_2_3</pre></strong> passed! 🎉</p>"
      ],
      "text/plain": [
       "q1_2_3 results: All test cases passed!"
      ]
     },
     "execution_count": 21,
     "metadata": {},
     "output_type": "execute_result"
    }
   ],
   "source": [
    "grader.check(\"q1_2_3\")"
   ]
  },
  {
   "cell_type": "code",
   "execution_count": 22,
   "id": "381ff982",
   "metadata": {
    "hideCode": false,
    "hidePrompt": false,
    "scrolled": true
   },
   "outputs": [
    {
     "data": {
      "image/png": "[encoded data removed]",
      "text/plain": [
       "<Figure size 500x500 with 1 Axes>"
      ]
     },
     "metadata": {},
     "output_type": "display_data"
    }
   ],
   "source": [
    "# Run this cell to produce a scatter plot\n",
    "prediction.scatter('flipper_length_mm')"
   ]
  },
  {
   "cell_type": "markdown",
   "id": "989c71d3",
   "metadata": {
    "hideCode": false,
    "hidePrompt": false
   },
   "source": [
    "Nice work! You have defined a linear regression model to predict a penguin’s body mass based on its flipper length. In Part 2, you will build a K-Nearest-Neighbor classifier to try and guess which type of penguin (either Adelie or Gentoo) a penguin is based on its attributes.\n"
   ]
  },
  {
   "cell_type": "markdown",
   "id": "c622cccf",
   "metadata": {},
   "source": [
    "# Checkpoint\n",
    "**Congratulations, you have reached the checkpoint!**\n",
    "\n",
    "Follow the steps in the Submit your Work section (the last section) of this notebook and submit your Final Project Checkpoint to Gradescope."
   ]
  },
  {
   "cell_type": "markdown",
   "id": "68be3f7c",
   "metadata": {
    "hideCode": false,
    "hidePrompt": false
   },
   "source": [
    "# PART 2: Penguin Classification"
   ]
  },
  {
   "cell_type": "markdown",
   "id": "f5a79d20-445f-49a0-a5db-409c7360cb7d",
   "metadata": {
    "deletable": false,
    "editable": false,
    "hideCode": false,
    "hidePrompt": false
   },
   "source": [
    "Let's begin implementing the k-Nearest Neighbors algorithm. \n",
    "\n",
    "**Question 2.1.1:** Define the `distance` function, which takes in two arguments: an array of numerical features, and a different array of numerical features. The function should return the [Euclidean distance](https://en.wikipedia.org/wiki/Euclidean_distance) between the two arrays. Euclidean distance is often referred to as the straight-line distance formula that you may have learned previously.\n",
    "\n",
    "Here is the formula if needed:\n",
    "\n",
    "$\\sqrt{\\sum [(array 1) - (array 2)]^2}$"
   ]
  },
  {
   "cell_type": "code",
   "execution_count": null,
   "id": "bca2d2c0",
   "metadata": {
    "hideCode": false,
    "hidePrompt": false,
    "tags": []
   },
   "outputs": [],
   "source": [
    "def distance(arr1, arr2):\n",
    "    ...\n",
    "\n",
    "# Don't change/delete the code below in this cell. distance_example should be ~5\n",
    "distance_example = distance(make_array(1, 2, 3), make_array(4, 5, 6))\n",
    "distance_example"
   ]
  },
  {
   "cell_type": "code",
   "execution_count": null,
   "id": "bd24224a",
   "metadata": {
    "deletable": false,
    "editable": false
   },
   "outputs": [],
   "source": [
    "grader.check(\"q2_1_1\")"
   ]
  },
  {
   "cell_type": "markdown",
   "id": "a5eaffc4",
   "metadata": {
    "hideCode": false,
    "hidePrompt": false
   },
   "source": [
    "We learned in this class that table.sample() will randomly select rows from any tables. We can control which rows are to be picked every single time through something called a random seed eg. `np.random.seed(5)` Basically, the gist of code is that it makes the randomness predictable. There is a certain order in which our rows will be picked for seed(5), and that order will always be the same. No matter how many times you run the cell below, it will always result in the same table. For the sake of this project, keep the random seed to be 5, standing for 5b :D\n",
    "\n",
    "We want to shuffle our table “randomly” because our original table had all the Adelie penguins on the top and the Gentoo penguins on the bottom. This is important for what we are about to do next.\n",
    "\n",
    "**NOTE: Our new table is now called `rad_penguins`** "
   ]
  },
  {
   "cell_type": "code",
   "execution_count": null,
   "id": "895505df",
   "metadata": {},
   "outputs": [],
   "source": [
    "# Run this cell\n",
    "np.random.seed(5)\n",
    "\n",
    "rad_penguins = cool_penguins.sample(with_replacement = True)\n",
    "rad_penguins.show(5)"
   ]
  },
  {
   "cell_type": "markdown",
   "id": "a20c022f-8fdb-47e1-b857-0611120a77c0",
   "metadata": {},
   "source": [
    "Next, let's split our dataset into a training set and a test set. This is so we can use our training set to build our classifier, and the test set to see if our model was able to accurately predict the information we want. This is also to prevent something called overfitting (which is beyond the scope of this class, you will learn more about it in PSTAT 100!) but the general gist of this concept is like this (you can skip this section if you want):\n",
    "- Pretend that you are a machine learning model. To prepare for your next math test, you train yourself by studying the study guide. You choose to study the entire study guide.\n",
    "- You study the study guide super well. Thus, when you try and test your knowledge, you quiz yourself on how you do on that exact same study guide. Unsurprisingly, you know how to do every single problem on that study guide and get a 100%.\n",
    "- Now it’s time for the real world. You go and take that math test. However, you ONLY studied for your study guide, and struggle to understand and apply what was supposed to be learned from that study guide to the real test. You fail :(\n",
    "This is similar to what overfitting is, and why we avoid it. We want our machine learning model to learn the concept and idea of what our data is trying to say, and use this data to make inference on real things."
   ]
  },
  {
   "cell_type": "markdown",
   "id": "dabdc72f-30ff-4f84-92a2-58dc1253fcc9",
   "metadata": {
    "deletable": false,
    "editable": false
   },
   "source": [
    "**Question 2.1.2:** Our table `rad_penguins` has a lot of row, so let's create a training set with the first 200 rows and a test set with the remaining rows. Assign `train` with your training set and `test` with your testing set.\n",
    "\n",
    "*Hint: A policeman tries to capture a criminal. The criminal, confident in his ability to escape yells, “You’ll never TAKE (wink wink) me alive!*"
   ]
  },
  {
   "cell_type": "code",
   "execution_count": null,
   "id": "f5c7a9dd",
   "metadata": {
    "tags": []
   },
   "outputs": [],
   "source": [
    "train = ...\n",
    "test = ..."
   ]
  },
  {
   "cell_type": "code",
   "execution_count": null,
   "id": "6fe5eade",
   "metadata": {
    "deletable": false,
    "editable": false
   },
   "outputs": [],
   "source": [
    "grader.check(\"q2_1_2\")"
   ]
  },
  {
   "cell_type": "markdown",
   "id": "46469c8c-0a76-4c3c-8481-779465648e68",
   "metadata": {
    "deletable": false,
    "editable": false
   },
   "source": [
    "<!-- BEGIN QUESTION -->\n",
    "\n",
    "**Question 2.1.3:** Draw a horizontal bar chart with two bars that show the proportion of Adelie penguins in each dataset (both the train and test dataset). Complete the function `adelie_proportion` first; it should help you create the bar chart.\n",
    "\n",
    "We are creating this bar chart to give us a sanity check that our randomly select rows have roughly the same proportions of each penguin for both the train and test dataset"
   ]
  },
  {
   "cell_type": "code",
   "execution_count": null,
   "id": "272f065c",
   "metadata": {
    "tags": []
   },
   "outputs": [],
   "source": [
    "def adelie_proportion(table):\n",
    "    # Return the proportion of penguins in a table that are adelie penguins.\n",
    "    return ...\n",
    "# Your solution may take multiple lines.  Start by creating a table.\n",
    "# If you get stuck, think about what sort of table you need for barh to work"
   ]
  },
  {
   "cell_type": "markdown",
   "id": "0713c2c4-9bf5-4aa4-87c8-7488b079d5d6",
   "metadata": {
    "deletable": false,
    "editable": false
   },
   "source": [
    "<!-- END QUESTION -->\n",
    "\n",
    "We want to predict the species of penguin based on four numerical columns.  \n",
    "\n",
    "**Question 2.1.4:** Assign `features` to an array of the labels of these features from the `rad_penguins` table."
   ]
  },
  {
   "cell_type": "code",
   "execution_count": null,
   "id": "cf0b2aed",
   "metadata": {
    "tags": []
   },
   "outputs": [],
   "source": [
    "features = ...\n",
    "features"
   ]
  },
  {
   "cell_type": "code",
   "execution_count": null,
   "id": "d1010d50",
   "metadata": {
    "deletable": false,
    "editable": false
   },
   "outputs": [],
   "source": [
    "grader.check(\"q2_1_4\")"
   ]
  },
  {
   "cell_type": "markdown",
   "id": "ada0bc00-bf65-4fb0-9226-308074a49a53",
   "metadata": {
    "deletable": false,
    "editable": false
   },
   "source": [
    "**Question 2.1.5:** Now define the `classify` function. This function should take in a row from a table like `test` and classify it based on the data in `train` using the `k`-Nearest Neighbors based on the correct `features`. Think of each row in the `test` table as a potential penguin you want to try and guess. Here are some hints if needed, but you should definitely try and attempt this problem without them if you want a challenge haha xD\n",
    "\n",
    "**THE HINTS:**\n",
    "\n",
    "- the `row_to_array` function we defined for you to convert rows to arrays of features so that you can use the `distance` function you defined earlier.\n",
    "- `test_row_features_array` will be an array of four numbers corresponding to each of the four features selected.\n",
    "- `distances` will be an empty array you will populate with the distance. More on this later.\n",
    "- `train_row_features_array` , similar to before, will be an array of four numbers corresponding to each of the four features selected. Every time our loop goes to each row, this array will change to be the four feature values of each row.\n",
    "- `row_distance` Here we want you to compute the Euclidean distance between the testing array and training array.\n",
    "- `distances` oh? This seems familiar…\n",
    "- `train_with_distances` Now that we have our array of distances computed from our mystery penguin to our training set penguins, add this array of values to our table.\n",
    "- `nearest_neighbors` Using k (which is a numerical representation of the closest k amount of penguins we want to take), get the rows for the closest k amount of penguins. This should be a table of only k amount of rows.\n",
    "- `most_common_label` Using `the nearest_neighbors` table, get the penguin (either Adelie or Gentoo) that appears the most."
   ]
  },
  {
   "cell_type": "code",
   "execution_count": null,
   "id": "6e38a3fa-f408-49ee-895e-afaadbafa379",
   "metadata": {
    "tags": []
   },
   "outputs": [],
   "source": [
    "def row_to_array(row, features):\n",
    "    arr = make_array()\n",
    "    for feature in features:\n",
    "        arr = np.append(arr, row.item(feature))\n",
    "    return arr\n",
    "\n",
    "def classify(row, k, train):\n",
    "    test_row_features_array = row_to_array(row, features)\n",
    "    distances = make_array()\n",
    "    for train_row in train.rows: # goes through every row in our training set\n",
    "        train_row_features_array = row_to_array(train_row, features)\n",
    "        row_distance = ...\n",
    "        distances = ...\n",
    "    train_with_distances = ...\n",
    "    nearest_neighbors = ...\n",
    "    most_common_label = ...\n",
    "    ...\n",
    "    \n",
    "\n",
    "# Don't modify/delete the code below\n",
    "first_test = classify(test.row(0), 5, train)\n",
    "first_test"
   ]
  },
  {
   "cell_type": "code",
   "execution_count": null,
   "id": "05e58dcf",
   "metadata": {
    "deletable": false,
    "editable": false
   },
   "outputs": [],
   "source": [
    "grader.check(\"q2_1_5\")"
   ]
  },
  {
   "cell_type": "markdown",
   "id": "f814a6a2-67f4-4713-b50d-7006d3ed2cf7",
   "metadata": {
    "deletable": false,
    "editable": false
   },
   "source": [
    "Now that we have defined our K-Nearest Neighbor Classifier, let’s test the accuracy of our model!\n",
    "\n",
    "Below we have defined a function called `my_classifier` which currently classifies our penguins using 5 nearest neighbors. Feel free to change it using any ODD number you want :)\n",
    "\n",
    "Then we have `test_with_prediction` which is our original test table with a column called ‘prediction’ which indicates which penguin our classifier predicts each penguin as depending on their features.\n",
    "\n",
    "**Question 2.1.6:** Assgined `accuracy` to the accuracy of our model"
   ]
  },
  {
   "cell_type": "code",
   "execution_count": null,
   "id": "f4634802",
   "metadata": {
    "tags": []
   },
   "outputs": [],
   "source": [
    "def my_classifier(row):\n",
    "    return classify(row, 5, train)\n",
    "\n",
    "test_with_prediction = test.drop('island', 'sex').with_column(\"prediction\", test.apply(my_classifier))\n",
    "\n",
    "accuracy = ...\n",
    "accuracy"
   ]
  },
  {
   "cell_type": "code",
   "execution_count": null,
   "id": "dae250f0",
   "metadata": {
    "deletable": false,
    "editable": false
   },
   "outputs": [],
   "source": [
    "grader.check(\"q2_1_6\")"
   ]
  },
  {
   "cell_type": "markdown",
   "id": "25d17ae6-5087-4bbd-a663-8ebd7ca76c32",
   "metadata": {
    "deletable": false,
    "editable": false
   },
   "source": [
    "<!-- BEGIN QUESTION -->\n",
    "\n",
    "**Question 2.1.7:** Why do we use an odd-numbered `k` in k-NN? Explain."
   ]
  },
  {
   "cell_type": "markdown",
   "id": "51385813",
   "metadata": {},
   "source": [
    "_Type your answer here, replacing this text._"
   ]
  },
  {
   "cell_type": "markdown",
   "id": "3e486bfd",
   "metadata": {
    "deletable": false,
    "editable": false
   },
   "source": [
    "<!-- END QUESTION -->\n",
    "\n",
    "Alrighty! We have finished with the Penguins dataset, which covers both linear regression and simple K-nearest neighbors."
   ]
  },
  {
   "cell_type": "markdown",
   "id": "98f599e5",
   "metadata": {},
   "source": [
    "# PART 3: Show Us What You've Learned!\n",
    "\n",
    "For the final portion of your final, we want you to select your own dataset. We have provided these datasets already for you to use. Look through the data folder and load up any csv as a table. If you would like to use your own dataset, by all means please do so. Simply upload the csv file into the data folder and you are ready to go. Some difficulties you may face is that you might encounter messy datasets with missing values or some other errors. These datasets we have provided for you are already cleaned, so you do not need to worry about that. \n",
    "\n",
    "The datasets we have provided for you are meant for linear regression, but if you are using your own dataset and you want to do K-nearest neighbors classification, then that is great as well.\n",
    "\n",
    "If you would like to do an oral presentation for the final, this would be the section you would do it on!\n",
    "\n",
    "To get full credit on this portion, you must meet all of the following requirements.\n",
    "\n",
    "1. **Clean Table:** Please showcase what your table looks like and explain what each column represents (look in the beginning of the project where it explains what each column has as a reference).\n",
    " - For Linear Regression, you should only have 2 columns at this stage. \n",
    " - For K-nearest neighbors, you should have a target column and multiple (at least 3) predictor feature columns.\n",
    "\n",
    "\n",
    "2. **Methodology:** Depending on whether you are doing linear regression or KNN classification, under each cell of code, please document and write down what you are doing and how each piece of code gets you to the end of your goal (If you do KNN classification, one thing to note is that we typically split our dataset into ~80% training and ~20%). It doesn’t have to be a paragraph for each section, just some sentences to help guide the readers through what you are doing. This will make your project easier for us to understand, as well as showcasing how well you understand which method you choose to do. Example could be something like:\n",
    " - “Here we computed the correlation coefficient r between X and Y”\n",
    " - “Here we used r to compute our slope, and our slope to compute the intercept”\n",
    "\n",
    "\n",
    "3. **Model Performance:** This is when you showcase your model and its performance. \n",
    " - For Linear Regression: We would like to see a scatter plot with the regression line (as done in the first part). Explain what the slope and intercept means in the scope of your data, calculate the RMSE to evaluate the performance of your regression line (not done in this project, but reference an old homework), and do some outside research to explain why you think you got the result that you did.\n",
    " - For KNN Classification, we would like you to build a classification model with the features you chose (at least 3)  and calculate the accuracy score. Then, we would like you to tune your model in two 2 ways: One is changing the k value to a different number (pretty simple), and the other way is adding/removing features to your model (for example, we could have only used 3 columns instead of 4 in our penguin classifier). We want you to experiment with changing up your models in different ways (should have at least 3 models with different parameters in the end) to really showcase how these parameters affect your model. Lastly, we want you to explain what difficulties your KNN classifier may have in relation to your project (as in, what are some reasons your model misclassified your data) and what are some possible ways to solve these issues."
   ]
  },
  {
   "cell_type": "code",
   "execution_count": null,
   "id": "ff8f39af",
   "metadata": {},
   "outputs": [],
   "source": [
    "# START HERE AND GOOD LUCK!"
   ]
  },
  {
   "cell_type": "code",
   "execution_count": null,
   "id": "228ab6d1",
   "metadata": {},
   "outputs": [],
   "source": [
    "# REMEMBER TUTORING HOURS ARE OFFERED EVERY DAY \n",
    "# MONDAY - FRIDAY\n",
    "# FIND THE TUTORING HOURS SCHEDULE IN CANVAS, UNDER SCHEDULE TAB"
   ]
  },
  {
   "cell_type": "code",
   "execution_count": null,
   "id": "bbf693e0",
   "metadata": {},
   "outputs": [],
   "source": []
  },
  {
   "cell_type": "markdown",
   "id": "e66dee71-fff4-4f50-940e-2f373449fb41",
   "metadata": {},
   "source": [
    "**Question 3.1. CLEAN TABLE:** \n",
    "- 1 Point for showcasing your new clean table\n",
    "- 1 Point for explaining what each column represents"
   ]
  },
  {
   "cell_type": "code",
   "execution_count": null,
   "id": "e7ec0096",
   "metadata": {},
   "outputs": [],
   "source": []
  },
  {
   "cell_type": "markdown",
   "id": "0566b859-a16c-4864-9f49-73e701c51a3b",
   "metadata": {},
   "source": [
    "**Question 3.2. METHODOLOGY:** \n",
    "- 1 Point for documenting your steps\n",
    "- 1 Point clarity and accuracy."
   ]
  },
  {
   "cell_type": "code",
   "execution_count": null,
   "id": "a4683f0c",
   "metadata": {},
   "outputs": [],
   "source": []
  },
  {
   "cell_type": "markdown",
   "id": "2ac4abab-4451-4189-9110-294d2db27f5e",
   "metadata": {},
   "source": [
    "**3. MODEL PERFORMANCE:** \n",
    "- 1 Point for model showcase (regression scatter plot OR 3 different KNN classifiers)\n",
    "- 1 Point for model performance (RMSE OR Classification Accuracies)\n",
    "- 2 Points for results (explain what your regression equation means (remember to include slope & intercept) and why you believe you got this result OR explain what challenges your classifier may have faced regarding some of its misclassification and what could be done to improve it)"
   ]
  },
  {
   "cell_type": "code",
   "execution_count": null,
   "id": "31f9cbba",
   "metadata": {},
   "outputs": [],
   "source": []
  },
  {
   "cell_type": "markdown",
   "id": "747c73a2",
   "metadata": {},
   "source": [
    "**Congratulations!**\n",
    "**You have completed the CMPSC 5B Final Project.**"
   ]
  },
  {
   "cell_type": "markdown",
   "id": "c86116c6",
   "metadata": {},
   "source": [
    "# Submit your work\n",
    "\n",
    "Before you submit your work, \n",
    "* Make sure you **save the notebook** first, \n",
    "* Then go up to the `Kernel` menu and select `Restart & Clear Output` (make sure the notebook is saved first, because otherwise, you will lose all your work!). \n",
    "* Now, go to `Cell -> Run All`. Carefully look through your notebook and verify that all computations execute correctly. You should see **no errors**; if there are any errors, make sure to correct them before you submit the notebook.\n",
    "* Then, go to `File -> Download as -> Notebook` and download the notebook to your own computer. ([Please verify](https://ucsb-ds.github.io/ds1-f20/troubleshooting/#i-downloaded-the-notebook-file-but-it-saves-as-the-ipynbjson-extension-so-whenever-i-upload-it-to-gradescope-it-fails) that it got saved as an `.ipynb` file.)\n",
    "* Upload the notebook to [Gradescope](https://www.gradescope.com/)."
   ]
  },
  {
   "cell_type": "code",
   "execution_count": null,
   "id": "aa14e2a8",
   "metadata": {},
   "outputs": [],
   "source": []
  }
 ],
 "metadata": {
  "hide_code_all_hidden": false,
  "hide_input": false,
  "kernelspec": {
   "display_name": "Python 3 (ipykernel)",
   "language": "python",
   "name": "python3"
  },
  "language_info": {
   "codemirror_mode": {
    "name": "ipython",
    "version": 3
   },
   "file_extension": ".py",
   "mimetype": "text/x-python",
   "name": "python",
   "nbconvert_exporter": "python",
   "pygments_lexer": "ipython3",
   "version": "3.11.5"
  },
  "otter": {
   "OK_FORMAT": true,
   "tests": {
    "q1_0": {
     "name": "q1_0",
     "points": null,
     "suites": [
      {
       "cases": [
        {
         "code": ">>> print(cool_penguins.num_rows == 266)\nTrue",
         "hidden": false,
         "locked": false
        },
        {
         "code": ">>> cool_penguins.where('species', 'Chinstrap').num_rows == 0\nTrue",
         "hidden": false,
         "locked": false
        }
       ],
       "scored": true,
       "setup": "",
       "teardown": "",
       "type": "doctest"
      }
     ]
    },
    "q1_1_1": {
     "name": "q1_1_1",
     "points": null,
     "suites": [
      {
       "cases": [
        {
         "code": ">>> round(penguin_corr(cool_penguins, 'culmen_length_mm', 'culmen_length_mm'), 2) == 1.0\nTrue",
         "hidden": false,
         "locked": false
        },
        {
         "code": ">>> round(penguin_corr(cool_penguins, 'culmen_depth_mm', 'body_mass_g'), 2) == -0.48\nTrue",
         "hidden": false,
         "locked": false
        }
       ],
       "scored": true,
       "setup": "",
       "teardown": "",
       "type": "doctest"
      }
     ]
    },
    "q1_1_2": {
     "name": "q1_1_2",
     "points": null,
     "suites": [
      {
       "cases": [
        {
         "code": ">>> beak_and_body < -0.4\nTrue",
         "hidden": false,
         "locked": false
        },
        {
         "code": ">>> round(beak_and_body, 2) == -0.48\nTrue",
         "hidden": false,
         "locked": false
        }
       ],
       "scored": true,
       "setup": "",
       "teardown": "",
       "type": "doctest"
      }
     ]
    },
    "q1_1_3": {
     "name": "q1_1_3",
     "points": null,
     "suites": [
      {
       "cases": [
        {
         "code": ">>> Adele > 0.5 and Gen2 > 0.7\nTrue",
         "hidden": false,
         "locked": false
        },
        {
         "code": ">>> round(Adele, 2) == 0.58 and round(Gen2, 2) == 0.72\nTrue",
         "hidden": false,
         "locked": false
        }
       ],
       "scored": true,
       "setup": "",
       "teardown": "",
       "type": "doctest"
      }
     ]
    },
    "q1_2_1": {
     "name": "q1_2_1",
     "points": null,
     "suites": [
      {
       "cases": [
        {
         "code": ">>> round(pengu, 2) == 0.88\nTrue",
         "hidden": false,
         "locked": false
        }
       ],
       "scored": true,
       "setup": "",
       "teardown": "",
       "type": "doctest"
      }
     ]
    },
    "q1_2_2": {
     "name": "q1_2_2",
     "points": null,
     "suites": [
      {
       "cases": [
        {
         "code": ">>> slope > 0 and intercept < 0\nTrue",
         "hidden": false,
         "locked": false
        },
        {
         "code": ">>> round(slope, 2) == 49.41 and round(intercept, 2) == -5666.22\nTrue",
         "hidden": false,
         "locked": false
        }
       ],
       "scored": true,
       "setup": "",
       "teardown": "",
       "type": "doctest"
      }
     ]
    },
    "q1_2_3": {
     "name": "q1_2_3",
     "points": null,
     "suites": [
      {
       "cases": [
        {
         "code": ">>> prediction.num_columns == 3\nTrue",
         "hidden": false,
         "locked": false
        },
        {
         "code": ">>> round(prediction.column('predicted_body_mass_g').item(0), 2) == 3276.3\nTrue",
         "hidden": false,
         "locked": false
        }
       ],
       "scored": true,
       "setup": "",
       "teardown": "",
       "type": "doctest"
      }
     ]
    },
    "q2_1_1": {
     "name": "q2_1_1",
     "points": null,
     "suites": [
      {
       "cases": [
        {
         "code": ">>> type(distance_example) in set([float, np.float32, np.float64])\nTrue",
         "hidden": false,
         "locked": false
        }
       ],
       "scored": true,
       "setup": "",
       "teardown": "",
       "type": "doctest"
      }
     ]
    },
    "q2_1_2": {
     "name": "q2_1_2",
     "points": null,
     "suites": [
      {
       "cases": [
        {
         "code": ">>> train.num_rows == 200\nTrue",
         "hidden": false,
         "locked": false
        },
        {
         "code": ">>> test.num_rows == 66\nTrue",
         "hidden": false,
         "locked": false
        }
       ],
       "scored": true,
       "setup": "",
       "teardown": "",
       "type": "doctest"
      }
     ]
    },
    "q2_1_4": {
     "name": "q2_1_4",
     "points": null,
     "suites": [
      {
       "cases": [
        {
         "code": ">>> sorted(features) == ['body_mass_g', 'culmen_depth_mm', 'culmen_length_mm', 'flipper_length_mm']\nTrue",
         "hidden": false,
         "locked": false
        }
       ],
       "scored": true,
       "setup": "",
       "teardown": "",
       "type": "doctest"
      }
     ]
    },
    "q2_1_5": {
     "name": "q2_1_5",
     "points": null,
     "suites": [
      {
       "cases": [
        {
         "code": ">>> type(first_test) == str\nTrue",
         "hidden": false,
         "locked": false
        }
       ],
       "scored": true,
       "setup": "",
       "teardown": "",
       "type": "doctest"
      }
     ]
    },
    "q2_1_6": {
     "name": "q2_1_6",
     "points": null,
     "suites": [
      {
       "cases": [
        {
         "code": ">>> type(accuracy) == float\nTrue",
         "hidden": false,
         "locked": false
        },
        {
         "code": ">>> 0.8 < accuracy < 1\nTrue",
         "hidden": false,
         "locked": false
        }
       ],
       "scored": true,
       "setup": "",
       "teardown": "",
       "type": "doctest"
      }
     ]
    }
   }
  },
  "toc": {
   "base_numbering": 1,
   "nav_menu": {},
   "number_sections": true,
   "sideBar": true,
   "skip_h1_title": false,
   "title_cell": "Table of Contents",
   "title_sidebar": "Contents",
   "toc_cell": false,
   "toc_position": {
    "height": "calc(100% - 180px)",
    "left": "10px",
    "top": "150px",
    "width": "271.449px"
   },
   "toc_section_display": true,
   "toc_window_display": true
  }
 },
 "nbformat": 4,
 "nbformat_minor": 5
}
